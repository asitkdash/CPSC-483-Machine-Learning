{
 "cells": [
  {
   "cell_type": "code",
   "execution_count": 148,
   "metadata": {
    "collapsed": true
   },
   "outputs": [],
   "source": [
    "import pandas as pd\n",
    "import numpy as np\n",
    "import sys\n",
    "import matplotlib.pyplot as plt\n",
    "import seaborn as sns\n",
    "plt.rcParams[\"figure.figsize\"] = (12,12)\n",
    "\n",
    "%matplotlib inline"
   ]
  },
  {
   "cell_type": "code",
   "execution_count": 149,
   "metadata": {
    "collapsed": true
   },
   "outputs": [],
   "source": [
    "file_name = \"Dataset.csv\""
   ]
  },
  {
   "cell_type": "code",
   "execution_count": 150,
   "metadata": {
    "collapsed": true
   },
   "outputs": [],
   "source": [
    "data = pd.read_csv(file_name)"
   ]
  },
  {
   "cell_type": "code",
   "execution_count": 151,
   "metadata": {},
   "outputs": [
    {
     "data": {
      "text/html": [
       "<div>\n",
       "<style>\n",
       "    .dataframe thead tr:only-child th {\n",
       "        text-align: right;\n",
       "    }\n",
       "\n",
       "    .dataframe thead th {\n",
       "        text-align: left;\n",
       "    }\n",
       "\n",
       "    .dataframe tbody tr th {\n",
       "        vertical-align: top;\n",
       "    }\n",
       "</style>\n",
       "<table border=\"1\" class=\"dataframe\">\n",
       "  <thead>\n",
       "    <tr style=\"text-align: right;\">\n",
       "      <th></th>\n",
       "      <th>Tm</th>\n",
       "      <th>Pr</th>\n",
       "      <th>Th</th>\n",
       "      <th>Sv</th>\n",
       "      <th>Idx</th>\n",
       "    </tr>\n",
       "  </thead>\n",
       "  <tbody>\n",
       "    <tr>\n",
       "      <th>0</th>\n",
       "      <td>-20</td>\n",
       "      <td>500</td>\n",
       "      <td>0.027368</td>\n",
       "      <td>350.861031</td>\n",
       "      <td>54.903239</td>\n",
       "    </tr>\n",
       "    <tr>\n",
       "      <th>1</th>\n",
       "      <td>-20</td>\n",
       "      <td>500</td>\n",
       "      <td>0.027023</td>\n",
       "      <td>343.897695</td>\n",
       "      <td>52.155342</td>\n",
       "    </tr>\n",
       "    <tr>\n",
       "      <th>2</th>\n",
       "      <td>-20</td>\n",
       "      <td>500</td>\n",
       "      <td>0.026678</td>\n",
       "      <td>336.475830</td>\n",
       "      <td>49.533201</td>\n",
       "    </tr>\n",
       "    <tr>\n",
       "      <th>3</th>\n",
       "      <td>-20</td>\n",
       "      <td>500</td>\n",
       "      <td>0.026333</td>\n",
       "      <td>330.290415</td>\n",
       "      <td>47.025757</td>\n",
       "    </tr>\n",
       "    <tr>\n",
       "      <th>4</th>\n",
       "      <td>-20</td>\n",
       "      <td>500</td>\n",
       "      <td>0.025988</td>\n",
       "      <td>324.433876</td>\n",
       "      <td>44.623440</td>\n",
       "    </tr>\n",
       "  </tbody>\n",
       "</table>\n",
       "</div>"
      ],
      "text/plain": [
       "   Tm   Pr        Th          Sv        Idx\n",
       "0 -20  500  0.027368  350.861031  54.903239\n",
       "1 -20  500  0.027023  343.897695  52.155342\n",
       "2 -20  500  0.026678  336.475830  49.533201\n",
       "3 -20  500  0.026333  330.290415  47.025757\n",
       "4 -20  500  0.025988  324.433876  44.623440"
      ]
     },
     "metadata": {},
     "output_type": "display_data"
    }
   ],
   "source": [
    "display(data.head(5))"
   ]
  },
  {
   "cell_type": "code",
   "execution_count": 152,
   "metadata": {},
   "outputs": [
    {
     "data": {
      "text/html": [
       "<div>\n",
       "<style>\n",
       "    .dataframe thead tr:only-child th {\n",
       "        text-align: right;\n",
       "    }\n",
       "\n",
       "    .dataframe thead th {\n",
       "        text-align: left;\n",
       "    }\n",
       "\n",
       "    .dataframe tbody tr th {\n",
       "        vertical-align: top;\n",
       "    }\n",
       "</style>\n",
       "<table border=\"1\" class=\"dataframe\">\n",
       "  <thead>\n",
       "    <tr style=\"text-align: right;\">\n",
       "      <th></th>\n",
       "      <th>Tm</th>\n",
       "      <th>Pr</th>\n",
       "      <th>Th</th>\n",
       "      <th>Sv</th>\n",
       "      <th>Idx</th>\n",
       "    </tr>\n",
       "  </thead>\n",
       "  <tbody>\n",
       "    <tr>\n",
       "      <th>0</th>\n",
       "      <td>-20</td>\n",
       "      <td>500</td>\n",
       "      <td>0.027368</td>\n",
       "      <td>350.861031</td>\n",
       "      <td>54.903239</td>\n",
       "    </tr>\n",
       "    <tr>\n",
       "      <th>1</th>\n",
       "      <td>-20</td>\n",
       "      <td>500</td>\n",
       "      <td>0.027023</td>\n",
       "      <td>343.897695</td>\n",
       "      <td>52.155342</td>\n",
       "    </tr>\n",
       "    <tr>\n",
       "      <th>2</th>\n",
       "      <td>-20</td>\n",
       "      <td>500</td>\n",
       "      <td>0.026678</td>\n",
       "      <td>336.475830</td>\n",
       "      <td>49.533201</td>\n",
       "    </tr>\n",
       "    <tr>\n",
       "      <th>3</th>\n",
       "      <td>-20</td>\n",
       "      <td>500</td>\n",
       "      <td>0.026333</td>\n",
       "      <td>330.290415</td>\n",
       "      <td>47.025757</td>\n",
       "    </tr>\n",
       "    <tr>\n",
       "      <th>4</th>\n",
       "      <td>-20</td>\n",
       "      <td>500</td>\n",
       "      <td>0.025988</td>\n",
       "      <td>324.433876</td>\n",
       "      <td>44.623440</td>\n",
       "    </tr>\n",
       "  </tbody>\n",
       "</table>\n",
       "</div>"
      ],
      "text/plain": [
       "   Tm   Pr        Th          Sv        Idx\n",
       "0 -20  500  0.027368  350.861031  54.903239\n",
       "1 -20  500  0.027023  343.897695  52.155342\n",
       "2 -20  500  0.026678  336.475830  49.533201\n",
       "3 -20  500  0.026333  330.290415  47.025757\n",
       "4 -20  500  0.025988  324.433876  44.623440"
      ]
     },
     "metadata": {},
     "output_type": "display_data"
    }
   ],
   "source": [
    "display(data.head())"
   ]
  },
  {
   "cell_type": "code",
   "execution_count": 153,
   "metadata": {},
   "outputs": [
    {
     "data": {
      "text/html": [
       "<div>\n",
       "<style>\n",
       "    .dataframe thead tr:only-child th {\n",
       "        text-align: right;\n",
       "    }\n",
       "\n",
       "    .dataframe thead th {\n",
       "        text-align: left;\n",
       "    }\n",
       "\n",
       "    .dataframe tbody tr th {\n",
       "        vertical-align: top;\n",
       "    }\n",
       "</style>\n",
       "<table border=\"1\" class=\"dataframe\">\n",
       "  <thead>\n",
       "    <tr style=\"text-align: right;\">\n",
       "      <th></th>\n",
       "      <th>Tm</th>\n",
       "      <th>Pr</th>\n",
       "      <th>Th</th>\n",
       "      <th>Sv</th>\n",
       "      <th>Idx</th>\n",
       "    </tr>\n",
       "  </thead>\n",
       "  <tbody>\n",
       "    <tr>\n",
       "      <th>1773</th>\n",
       "      <td>60</td>\n",
       "      <td>1500</td>\n",
       "      <td>0.037815</td>\n",
       "      <td>430.778112</td>\n",
       "      <td>47.651844</td>\n",
       "    </tr>\n",
       "    <tr>\n",
       "      <th>285</th>\n",
       "      <td>-20</td>\n",
       "      <td>2500</td>\n",
       "      <td>0.025180</td>\n",
       "      <td>352.347302</td>\n",
       "      <td>39.503500</td>\n",
       "    </tr>\n",
       "    <tr>\n",
       "      <th>1179</th>\n",
       "      <td>20</td>\n",
       "      <td>3000</td>\n",
       "      <td>0.031993</td>\n",
       "      <td>442.684087</td>\n",
       "      <td>47.902124</td>\n",
       "    </tr>\n",
       "    <tr>\n",
       "      <th>1592</th>\n",
       "      <td>60</td>\n",
       "      <td>500</td>\n",
       "      <td>0.035257</td>\n",
       "      <td>349.339975</td>\n",
       "      <td>35.480441</td>\n",
       "    </tr>\n",
       "    <tr>\n",
       "      <th>306</th>\n",
       "      <td>-20</td>\n",
       "      <td>2500</td>\n",
       "      <td>0.024826</td>\n",
       "      <td>325.556485</td>\n",
       "      <td>37.829930</td>\n",
       "    </tr>\n",
       "  </tbody>\n",
       "</table>\n",
       "</div>"
      ],
      "text/plain": [
       "      Tm    Pr        Th          Sv        Idx\n",
       "1773  60  1500  0.037815  430.778112  47.651844\n",
       "285  -20  2500  0.025180  352.347302  39.503500\n",
       "1179  20  3000  0.031993  442.684087  47.902124\n",
       "1592  60   500  0.035257  349.339975  35.480441\n",
       "306  -20  2500  0.024826  325.556485  37.829930"
      ]
     },
     "metadata": {},
     "output_type": "display_data"
    }
   ],
   "source": [
    "display(data.sample(5,random_state=1))"
   ]
  },
  {
   "cell_type": "code",
   "execution_count": 154,
   "metadata": {},
   "outputs": [
    {
     "name": "stdout",
     "output_type": "stream",
     "text": [
      "Data Rows: 2376, Cols: 5\n"
     ]
    }
   ],
   "source": [
    "print (\"Data Rows: {}, Cols: {}\".format(data.shape[0],data.shape[1]))"
   ]
  },
  {
   "cell_type": "code",
   "execution_count": 155,
   "metadata": {},
   "outputs": [
    {
     "name": "stdout",
     "output_type": "stream",
     "text": [
      "<class 'pandas.core.frame.DataFrame'>\n",
      "RangeIndex: 2376 entries, 0 to 2375\n",
      "Data columns (total 5 columns):\n",
      "Tm     2376 non-null int64\n",
      " Pr    2376 non-null int64\n",
      "Th     2376 non-null float64\n",
      "Sv     2376 non-null float64\n",
      "Idx    2376 non-null float64\n",
      "dtypes: float64(3), int64(2)\n",
      "memory usage: 92.9 KB\n"
     ]
    }
   ],
   "source": [
    "data.info()"
   ]
  },
  {
   "cell_type": "code",
   "execution_count": 156,
   "metadata": {
    "collapsed": true
   },
   "outputs": [],
   "source": [
    "data = data.applymap(np.float64)"
   ]
  },
  {
   "cell_type": "code",
   "execution_count": 157,
   "metadata": {},
   "outputs": [
    {
     "name": "stdout",
     "output_type": "stream",
     "text": [
      "<class 'pandas.core.frame.DataFrame'>\n",
      "RangeIndex: 2376 entries, 0 to 2375\n",
      "Data columns (total 5 columns):\n",
      "Tm     2376 non-null float64\n",
      " Pr    2376 non-null float64\n",
      "Th     2376 non-null float64\n",
      "Sv     2376 non-null float64\n",
      "Idx    2376 non-null float64\n",
      "dtypes: float64(5)\n",
      "memory usage: 92.9 KB\n"
     ]
    }
   ],
   "source": [
    "data.info()"
   ]
  },
  {
   "cell_type": "code",
   "execution_count": 158,
   "metadata": {},
   "outputs": [
    {
     "data": {
      "text/plain": [
       "<bound method NDFrame.describe of         Tm      Pr        Th          Sv        Idx\n",
       "0    -20.0   500.0  0.027368  350.861031  54.903239\n",
       "1    -20.0   500.0  0.027023  343.897695  52.155342\n",
       "2    -20.0   500.0  0.026678  336.475830  49.533201\n",
       "3    -20.0   500.0  0.026333  330.290415  47.025757\n",
       "4    -20.0   500.0  0.025988  324.433876  44.623440\n",
       "5    -20.0   500.0  0.025643  318.877755  42.317666\n",
       "6    -20.0   500.0  0.025298  313.597383  40.100947\n",
       "7    -20.0   500.0  0.024952  307.783220  37.966499\n",
       "8    -20.0   500.0  0.024607  303.003753  35.908336\n",
       "9    -20.0   500.0  0.024262  298.439954  33.921085\n",
       "10   -20.0   500.0  0.023917  294.076643  31.999840\n",
       "11   -20.0   500.0  0.023800  292.737419  31.510456\n",
       "12   -20.0   500.0  0.024145  297.040330  33.413292\n",
       "13   -20.0   500.0  0.023682  291.415903  31.026129\n",
       "14   -20.0   500.0  0.024490  301.538986  35.380812\n",
       "15   -20.0   500.0  0.024027  295.660312  32.910977\n",
       "16   -20.0   500.0  0.023564  290.112412  30.546789\n",
       "17   -20.0   500.0  0.024835  306.248566  37.417682\n",
       "18   -20.0   500.0  0.024372  300.095723  34.859146\n",
       "19   -20.0   500.0  0.023909  294.299268  32.413982\n",
       "20   -20.0   500.0  0.023446  288.826314  30.072296\n",
       "21   -20.0   500.0  0.025180  311.983041  39.529174\n",
       "22   -20.0   500.0  0.024717  304.736681  36.875242\n",
       "23   -20.0   500.0  0.024254  298.672698  34.343251\n",
       "24   -20.0   500.0  0.023791  292.956881  31.922231\n",
       "25   -20.0   500.0  0.023328  287.556976  29.602586\n",
       "26   -20.0   500.0  0.025525  317.179612  41.721084\n",
       "27   -20.0   500.0  0.025062  309.600264  38.964281\n",
       "28   -20.0   500.0  0.024599  303.247249  36.338984\n",
       "29   -20.0   500.0  0.024136  297.269911  33.832958\n",
       "...    ...     ...       ...         ...        ...\n",
       "2346  80.0  3000.0  0.037256  433.412289  32.851385\n",
       "2347  80.0  3000.0  0.036569  425.974612  30.510516\n",
       "2348  80.0  3000.0  0.035882  418.258655  28.265633\n",
       "2349  80.0  3000.0  0.040520  503.235380  45.712834\n",
       "2350  80.0  3000.0  0.039833  484.207955  42.766434\n",
       "2351  80.0  3000.0  0.039146  473.611163  39.971895\n",
       "2352  80.0  3000.0  0.038458  465.850933  37.314218\n",
       "2353  80.0  3000.0  0.037771  439.923419  34.780388\n",
       "2354  80.0  3000.0  0.037084  431.413730  32.359131\n",
       "2355  80.0  3000.0  0.036397  424.083570  30.040605\n",
       "2356  80.0  3000.0  0.035709  416.468806  27.816171\n",
       "2357  80.0  3000.0  0.041035  512.548288  48.153568\n",
       "2358  80.0  3000.0  0.040348  492.755592  45.078029\n",
       "2359  80.0  3000.0  0.039661  481.599076  42.167618\n",
       "2360  80.0  3000.0  0.038973  473.373992  39.405397\n",
       "2361  80.0  3000.0  0.038286  463.545633  36.776833\n",
       "2362  80.0  3000.0  0.037599  437.833153  34.269368\n",
       "2363  80.0  3000.0  0.036911  429.443631  31.872086\n",
       "2364  80.0  3000.0  0.036224  422.217826  29.575444\n",
       "2365  80.0  3000.0  0.035537  414.701092  27.371055\n",
       "2366  80.0  3000.0  0.041550  514.426681  50.704453\n",
       "2367  80.0  3000.0  0.040863  509.550449  47.488070\n",
       "2368  80.0  3000.0  0.040176  490.007573  44.451779\n",
       "2369  80.0  3000.0  0.039488  479.031307  41.576415\n",
       "2370  80.0  3000.0  0.038801  470.958012  38.845709\n",
       "2371  80.0  3000.0  0.038114  461.278280  36.245589\n",
       "2372  80.0  3000.0  0.037426  435.774511  33.763911\n",
       "2373  80.0  3000.0  0.036739  428.210342  31.390100\n",
       "2374  80.0  3000.0  0.036052  420.374218  29.114900\n",
       "2375  80.0  3000.0  0.035365  412.955515  26.930167\n",
       "\n",
       "[2376 rows x 5 columns]>"
      ]
     },
     "execution_count": 158,
     "metadata": {},
     "output_type": "execute_result"
    }
   ],
   "source": [
    "data.describe"
   ]
  },
  {
   "cell_type": "code",
   "execution_count": 159,
   "metadata": {},
   "outputs": [
    {
     "data": {
      "text/html": [
       "<div>\n",
       "<style>\n",
       "    .dataframe thead tr:only-child th {\n",
       "        text-align: right;\n",
       "    }\n",
       "\n",
       "    .dataframe thead th {\n",
       "        text-align: left;\n",
       "    }\n",
       "\n",
       "    .dataframe tbody tr th {\n",
       "        vertical-align: top;\n",
       "    }\n",
       "</style>\n",
       "<table border=\"1\" class=\"dataframe\">\n",
       "  <thead>\n",
       "    <tr style=\"text-align: right;\">\n",
       "      <th></th>\n",
       "      <th>Tm</th>\n",
       "      <th>Pr</th>\n",
       "      <th>Th</th>\n",
       "      <th>Sv</th>\n",
       "      <th>Idx</th>\n",
       "    </tr>\n",
       "  </thead>\n",
       "  <tbody>\n",
       "    <tr>\n",
       "      <th>Tm</th>\n",
       "      <td>1.000000</td>\n",
       "      <td>0.000000e+00</td>\n",
       "      <td>9.568789e-01</td>\n",
       "      <td>0.643299</td>\n",
       "      <td>-0.027948</td>\n",
       "    </tr>\n",
       "    <tr>\n",
       "      <th>Pr</th>\n",
       "      <td>0.000000</td>\n",
       "      <td>1.000000e+00</td>\n",
       "      <td>-2.560145e-17</td>\n",
       "      <td>0.513658</td>\n",
       "      <td>0.000317</td>\n",
       "    </tr>\n",
       "    <tr>\n",
       "      <th>Th</th>\n",
       "      <td>0.956879</td>\n",
       "      <td>-2.560145e-17</td>\n",
       "      <td>1.000000e+00</td>\n",
       "      <td>0.768837</td>\n",
       "      <td>0.259088</td>\n",
       "    </tr>\n",
       "    <tr>\n",
       "      <th>Sv</th>\n",
       "      <td>0.643299</td>\n",
       "      <td>5.136578e-01</td>\n",
       "      <td>7.688373e-01</td>\n",
       "      <td>1.000000</td>\n",
       "      <td>0.518672</td>\n",
       "    </tr>\n",
       "    <tr>\n",
       "      <th>Idx</th>\n",
       "      <td>-0.027948</td>\n",
       "      <td>3.166927e-04</td>\n",
       "      <td>2.590879e-01</td>\n",
       "      <td>0.518672</td>\n",
       "      <td>1.000000</td>\n",
       "    </tr>\n",
       "  </tbody>\n",
       "</table>\n",
       "</div>"
      ],
      "text/plain": [
       "           Tm            Pr            Th        Sv       Idx\n",
       "Tm   1.000000  0.000000e+00  9.568789e-01  0.643299 -0.027948\n",
       " Pr  0.000000  1.000000e+00 -2.560145e-17  0.513658  0.000317\n",
       "Th   0.956879 -2.560145e-17  1.000000e+00  0.768837  0.259088\n",
       "Sv   0.643299  5.136578e-01  7.688373e-01  1.000000  0.518672\n",
       "Idx -0.027948  3.166927e-04  2.590879e-01  0.518672  1.000000"
      ]
     },
     "execution_count": 159,
     "metadata": {},
     "output_type": "execute_result"
    }
   ],
   "source": [
    "corr = data.corr(method=\"pearson\")\n",
    "corr"
   ]
  },
  {
   "cell_type": "code",
   "execution_count": 160,
   "metadata": {},
   "outputs": [
    {
     "data": {
      "text/plain": [
       "<matplotlib.axes._subplots.AxesSubplot at 0x1f5e7f33c88>"
      ]
     },
     "execution_count": 160,
     "metadata": {},
     "output_type": "execute_result"
    },
    {
     "data": {
      "image/png": "[encoded data removed]",
      "text/plain": [
       "<matplotlib.figure.Figure at 0x1f5e8235ef0>"
      ]
     },
     "metadata": {},
     "output_type": "display_data"
    }
   ],
   "source": [
    "sns.heatmap(corr,cmap=sns.cubehelix_palette(as_cmap=True),annot=True)"
   ]
  },
  {
   "cell_type": "code",
   "execution_count": 161,
   "metadata": {},
   "outputs": [
    {
     "data": {
      "text/plain": [
       "Tm     0.000000\n",
       " Pr    0.000000\n",
       "Th     0.115895\n",
       "Sv     0.348965\n",
       "Idx    0.685095\n",
       "dtype: float64"
      ]
     },
     "execution_count": 161,
     "metadata": {},
     "output_type": "execute_result"
    }
   ],
   "source": [
    "data.skew()"
   ]
  },
  {
   "cell_type": "code",
   "execution_count": 162,
   "metadata": {},
   "outputs": [
    {
     "data": {
      "text/plain": [
       "<matplotlib.axes._subplots.AxesSubplot at 0x1f5e835a780>"
      ]
     },
     "execution_count": 162,
     "metadata": {},
     "output_type": "execute_result"
    },
    {
     "data": {
      "image/png": "[encoded data removed]",
      "text/plain": [
       "<matplotlib.figure.Figure at 0x1f5e8235160>"
      ]
     },
     "metadata": {},
     "output_type": "display_data"
    }
   ],
   "source": [
    "sns.distplot(data['Tm'])"
   ]
  },
  {
   "cell_type": "code",
   "execution_count": 163,
   "metadata": {},
   "outputs": [
    {
     "data": {
      "text/plain": [
       "<matplotlib.axes._subplots.AxesSubplot at 0x1f5e8235b00>"
      ]
     },
     "execution_count": 163,
     "metadata": {},
     "output_type": "execute_result"
    },
    {
     "data": {
      "image/png": "[encoded data removed]",
      "text/plain": [
       "<matplotlib.figure.Figure at 0x1f5e96d5d68>"
      ]
     },
     "metadata": {},
     "output_type": "display_data"
    }
   ],
   "source": [
    "sns.distplot(data['Th'])"
   ]
  },
  {
   "cell_type": "code",
   "execution_count": 164,
   "metadata": {},
   "outputs": [
    {
     "data": {
      "text/plain": [
       "<matplotlib.axes._subplots.AxesSubplot at 0x1f5e97e6ef0>"
      ]
     },
     "execution_count": 164,
     "metadata": {},
     "output_type": "execute_result"
    },
    {
     "data": {
      "image/png": "[encoded data removed]",
      "text/plain": [
       "<matplotlib.figure.Figure at 0x1f5e9667c18>"
      ]
     },
     "metadata": {},
     "output_type": "display_data"
    }
   ],
   "source": [
    "sns.distplot(data['Sv'])"
   ]
  },
  {
   "cell_type": "code",
   "execution_count": 165,
   "metadata": {
    "collapsed": true
   },
   "outputs": [],
   "source": [
    "X = data.iloc[:,0:-1]\n",
    "y = data.iloc[:, -1]"
   ]
  },
  {
   "cell_type": "code",
   "execution_count": 166,
   "metadata": {},
   "outputs": [
    {
     "data": {
      "text/html": [
       "<div>\n",
       "<style>\n",
       "    .dataframe thead tr:only-child th {\n",
       "        text-align: right;\n",
       "    }\n",
       "\n",
       "    .dataframe thead th {\n",
       "        text-align: left;\n",
       "    }\n",
       "\n",
       "    .dataframe tbody tr th {\n",
       "        vertical-align: top;\n",
       "    }\n",
       "</style>\n",
       "<table border=\"1\" class=\"dataframe\">\n",
       "  <thead>\n",
       "    <tr style=\"text-align: right;\">\n",
       "      <th></th>\n",
       "      <th>Tm</th>\n",
       "      <th>Pr</th>\n",
       "      <th>Th</th>\n",
       "      <th>Sv</th>\n",
       "    </tr>\n",
       "  </thead>\n",
       "  <tbody>\n",
       "    <tr>\n",
       "      <th>0</th>\n",
       "      <td>-20.0</td>\n",
       "      <td>500.0</td>\n",
       "      <td>0.027368</td>\n",
       "      <td>350.861031</td>\n",
       "    </tr>\n",
       "    <tr>\n",
       "      <th>1</th>\n",
       "      <td>-20.0</td>\n",
       "      <td>500.0</td>\n",
       "      <td>0.027023</td>\n",
       "      <td>343.897695</td>\n",
       "    </tr>\n",
       "    <tr>\n",
       "      <th>2</th>\n",
       "      <td>-20.0</td>\n",
       "      <td>500.0</td>\n",
       "      <td>0.026678</td>\n",
       "      <td>336.475830</td>\n",
       "    </tr>\n",
       "    <tr>\n",
       "      <th>3</th>\n",
       "      <td>-20.0</td>\n",
       "      <td>500.0</td>\n",
       "      <td>0.026333</td>\n",
       "      <td>330.290415</td>\n",
       "    </tr>\n",
       "    <tr>\n",
       "      <th>4</th>\n",
       "      <td>-20.0</td>\n",
       "      <td>500.0</td>\n",
       "      <td>0.025988</td>\n",
       "      <td>324.433876</td>\n",
       "    </tr>\n",
       "    <tr>\n",
       "      <th>5</th>\n",
       "      <td>-20.0</td>\n",
       "      <td>500.0</td>\n",
       "      <td>0.025643</td>\n",
       "      <td>318.877755</td>\n",
       "    </tr>\n",
       "    <tr>\n",
       "      <th>6</th>\n",
       "      <td>-20.0</td>\n",
       "      <td>500.0</td>\n",
       "      <td>0.025298</td>\n",
       "      <td>313.597383</td>\n",
       "    </tr>\n",
       "    <tr>\n",
       "      <th>7</th>\n",
       "      <td>-20.0</td>\n",
       "      <td>500.0</td>\n",
       "      <td>0.024952</td>\n",
       "      <td>307.783220</td>\n",
       "    </tr>\n",
       "    <tr>\n",
       "      <th>8</th>\n",
       "      <td>-20.0</td>\n",
       "      <td>500.0</td>\n",
       "      <td>0.024607</td>\n",
       "      <td>303.003753</td>\n",
       "    </tr>\n",
       "    <tr>\n",
       "      <th>9</th>\n",
       "      <td>-20.0</td>\n",
       "      <td>500.0</td>\n",
       "      <td>0.024262</td>\n",
       "      <td>298.439954</td>\n",
       "    </tr>\n",
       "    <tr>\n",
       "      <th>10</th>\n",
       "      <td>-20.0</td>\n",
       "      <td>500.0</td>\n",
       "      <td>0.023917</td>\n",
       "      <td>294.076643</td>\n",
       "    </tr>\n",
       "    <tr>\n",
       "      <th>11</th>\n",
       "      <td>-20.0</td>\n",
       "      <td>500.0</td>\n",
       "      <td>0.023800</td>\n",
       "      <td>292.737419</td>\n",
       "    </tr>\n",
       "    <tr>\n",
       "      <th>12</th>\n",
       "      <td>-20.0</td>\n",
       "      <td>500.0</td>\n",
       "      <td>0.024145</td>\n",
       "      <td>297.040330</td>\n",
       "    </tr>\n",
       "    <tr>\n",
       "      <th>13</th>\n",
       "      <td>-20.0</td>\n",
       "      <td>500.0</td>\n",
       "      <td>0.023682</td>\n",
       "      <td>291.415903</td>\n",
       "    </tr>\n",
       "    <tr>\n",
       "      <th>14</th>\n",
       "      <td>-20.0</td>\n",
       "      <td>500.0</td>\n",
       "      <td>0.024490</td>\n",
       "      <td>301.538986</td>\n",
       "    </tr>\n",
       "    <tr>\n",
       "      <th>15</th>\n",
       "      <td>-20.0</td>\n",
       "      <td>500.0</td>\n",
       "      <td>0.024027</td>\n",
       "      <td>295.660312</td>\n",
       "    </tr>\n",
       "    <tr>\n",
       "      <th>16</th>\n",
       "      <td>-20.0</td>\n",
       "      <td>500.0</td>\n",
       "      <td>0.023564</td>\n",
       "      <td>290.112412</td>\n",
       "    </tr>\n",
       "    <tr>\n",
       "      <th>17</th>\n",
       "      <td>-20.0</td>\n",
       "      <td>500.0</td>\n",
       "      <td>0.024835</td>\n",
       "      <td>306.248566</td>\n",
       "    </tr>\n",
       "    <tr>\n",
       "      <th>18</th>\n",
       "      <td>-20.0</td>\n",
       "      <td>500.0</td>\n",
       "      <td>0.024372</td>\n",
       "      <td>300.095723</td>\n",
       "    </tr>\n",
       "    <tr>\n",
       "      <th>19</th>\n",
       "      <td>-20.0</td>\n",
       "      <td>500.0</td>\n",
       "      <td>0.023909</td>\n",
       "      <td>294.299268</td>\n",
       "    </tr>\n",
       "    <tr>\n",
       "      <th>20</th>\n",
       "      <td>-20.0</td>\n",
       "      <td>500.0</td>\n",
       "      <td>0.023446</td>\n",
       "      <td>288.826314</td>\n",
       "    </tr>\n",
       "    <tr>\n",
       "      <th>21</th>\n",
       "      <td>-20.0</td>\n",
       "      <td>500.0</td>\n",
       "      <td>0.025180</td>\n",
       "      <td>311.983041</td>\n",
       "    </tr>\n",
       "    <tr>\n",
       "      <th>22</th>\n",
       "      <td>-20.0</td>\n",
       "      <td>500.0</td>\n",
       "      <td>0.024717</td>\n",
       "      <td>304.736681</td>\n",
       "    </tr>\n",
       "    <tr>\n",
       "      <th>23</th>\n",
       "      <td>-20.0</td>\n",
       "      <td>500.0</td>\n",
       "      <td>0.024254</td>\n",
       "      <td>298.672698</td>\n",
       "    </tr>\n",
       "    <tr>\n",
       "      <th>24</th>\n",
       "      <td>-20.0</td>\n",
       "      <td>500.0</td>\n",
       "      <td>0.023791</td>\n",
       "      <td>292.956881</td>\n",
       "    </tr>\n",
       "    <tr>\n",
       "      <th>25</th>\n",
       "      <td>-20.0</td>\n",
       "      <td>500.0</td>\n",
       "      <td>0.023328</td>\n",
       "      <td>287.556976</td>\n",
       "    </tr>\n",
       "    <tr>\n",
       "      <th>26</th>\n",
       "      <td>-20.0</td>\n",
       "      <td>500.0</td>\n",
       "      <td>0.025525</td>\n",
       "      <td>317.179612</td>\n",
       "    </tr>\n",
       "    <tr>\n",
       "      <th>27</th>\n",
       "      <td>-20.0</td>\n",
       "      <td>500.0</td>\n",
       "      <td>0.025062</td>\n",
       "      <td>309.600264</td>\n",
       "    </tr>\n",
       "    <tr>\n",
       "      <th>28</th>\n",
       "      <td>-20.0</td>\n",
       "      <td>500.0</td>\n",
       "      <td>0.024599</td>\n",
       "      <td>303.247249</td>\n",
       "    </tr>\n",
       "    <tr>\n",
       "      <th>29</th>\n",
       "      <td>-20.0</td>\n",
       "      <td>500.0</td>\n",
       "      <td>0.024136</td>\n",
       "      <td>297.269911</td>\n",
       "    </tr>\n",
       "    <tr>\n",
       "      <th>...</th>\n",
       "      <td>...</td>\n",
       "      <td>...</td>\n",
       "      <td>...</td>\n",
       "      <td>...</td>\n",
       "    </tr>\n",
       "    <tr>\n",
       "      <th>2346</th>\n",
       "      <td>80.0</td>\n",
       "      <td>3000.0</td>\n",
       "      <td>0.037256</td>\n",
       "      <td>433.412289</td>\n",
       "    </tr>\n",
       "    <tr>\n",
       "      <th>2347</th>\n",
       "      <td>80.0</td>\n",
       "      <td>3000.0</td>\n",
       "      <td>0.036569</td>\n",
       "      <td>425.974612</td>\n",
       "    </tr>\n",
       "    <tr>\n",
       "      <th>2348</th>\n",
       "      <td>80.0</td>\n",
       "      <td>3000.0</td>\n",
       "      <td>0.035882</td>\n",
       "      <td>418.258655</td>\n",
       "    </tr>\n",
       "    <tr>\n",
       "      <th>2349</th>\n",
       "      <td>80.0</td>\n",
       "      <td>3000.0</td>\n",
       "      <td>0.040520</td>\n",
       "      <td>503.235380</td>\n",
       "    </tr>\n",
       "    <tr>\n",
       "      <th>2350</th>\n",
       "      <td>80.0</td>\n",
       "      <td>3000.0</td>\n",
       "      <td>0.039833</td>\n",
       "      <td>484.207955</td>\n",
       "    </tr>\n",
       "    <tr>\n",
       "      <th>2351</th>\n",
       "      <td>80.0</td>\n",
       "      <td>3000.0</td>\n",
       "      <td>0.039146</td>\n",
       "      <td>473.611163</td>\n",
       "    </tr>\n",
       "    <tr>\n",
       "      <th>2352</th>\n",
       "      <td>80.0</td>\n",
       "      <td>3000.0</td>\n",
       "      <td>0.038458</td>\n",
       "      <td>465.850933</td>\n",
       "    </tr>\n",
       "    <tr>\n",
       "      <th>2353</th>\n",
       "      <td>80.0</td>\n",
       "      <td>3000.0</td>\n",
       "      <td>0.037771</td>\n",
       "      <td>439.923419</td>\n",
       "    </tr>\n",
       "    <tr>\n",
       "      <th>2354</th>\n",
       "      <td>80.0</td>\n",
       "      <td>3000.0</td>\n",
       "      <td>0.037084</td>\n",
       "      <td>431.413730</td>\n",
       "    </tr>\n",
       "    <tr>\n",
       "      <th>2355</th>\n",
       "      <td>80.0</td>\n",
       "      <td>3000.0</td>\n",
       "      <td>0.036397</td>\n",
       "      <td>424.083570</td>\n",
       "    </tr>\n",
       "    <tr>\n",
       "      <th>2356</th>\n",
       "      <td>80.0</td>\n",
       "      <td>3000.0</td>\n",
       "      <td>0.035709</td>\n",
       "      <td>416.468806</td>\n",
       "    </tr>\n",
       "    <tr>\n",
       "      <th>2357</th>\n",
       "      <td>80.0</td>\n",
       "      <td>3000.0</td>\n",
       "      <td>0.041035</td>\n",
       "      <td>512.548288</td>\n",
       "    </tr>\n",
       "    <tr>\n",
       "      <th>2358</th>\n",
       "      <td>80.0</td>\n",
       "      <td>3000.0</td>\n",
       "      <td>0.040348</td>\n",
       "      <td>492.755592</td>\n",
       "    </tr>\n",
       "    <tr>\n",
       "      <th>2359</th>\n",
       "      <td>80.0</td>\n",
       "      <td>3000.0</td>\n",
       "      <td>0.039661</td>\n",
       "      <td>481.599076</td>\n",
       "    </tr>\n",
       "    <tr>\n",
       "      <th>2360</th>\n",
       "      <td>80.0</td>\n",
       "      <td>3000.0</td>\n",
       "      <td>0.038973</td>\n",
       "      <td>473.373992</td>\n",
       "    </tr>\n",
       "    <tr>\n",
       "      <th>2361</th>\n",
       "      <td>80.0</td>\n",
       "      <td>3000.0</td>\n",
       "      <td>0.038286</td>\n",
       "      <td>463.545633</td>\n",
       "    </tr>\n",
       "    <tr>\n",
       "      <th>2362</th>\n",
       "      <td>80.0</td>\n",
       "      <td>3000.0</td>\n",
       "      <td>0.037599</td>\n",
       "      <td>437.833153</td>\n",
       "    </tr>\n",
       "    <tr>\n",
       "      <th>2363</th>\n",
       "      <td>80.0</td>\n",
       "      <td>3000.0</td>\n",
       "      <td>0.036911</td>\n",
       "      <td>429.443631</td>\n",
       "    </tr>\n",
       "    <tr>\n",
       "      <th>2364</th>\n",
       "      <td>80.0</td>\n",
       "      <td>3000.0</td>\n",
       "      <td>0.036224</td>\n",
       "      <td>422.217826</td>\n",
       "    </tr>\n",
       "    <tr>\n",
       "      <th>2365</th>\n",
       "      <td>80.0</td>\n",
       "      <td>3000.0</td>\n",
       "      <td>0.035537</td>\n",
       "      <td>414.701092</td>\n",
       "    </tr>\n",
       "    <tr>\n",
       "      <th>2366</th>\n",
       "      <td>80.0</td>\n",
       "      <td>3000.0</td>\n",
       "      <td>0.041550</td>\n",
       "      <td>514.426681</td>\n",
       "    </tr>\n",
       "    <tr>\n",
       "      <th>2367</th>\n",
       "      <td>80.0</td>\n",
       "      <td>3000.0</td>\n",
       "      <td>0.040863</td>\n",
       "      <td>509.550449</td>\n",
       "    </tr>\n",
       "    <tr>\n",
       "      <th>2368</th>\n",
       "      <td>80.0</td>\n",
       "      <td>3000.0</td>\n",
       "      <td>0.040176</td>\n",
       "      <td>490.007573</td>\n",
       "    </tr>\n",
       "    <tr>\n",
       "      <th>2369</th>\n",
       "      <td>80.0</td>\n",
       "      <td>3000.0</td>\n",
       "      <td>0.039488</td>\n",
       "      <td>479.031307</td>\n",
       "    </tr>\n",
       "    <tr>\n",
       "      <th>2370</th>\n",
       "      <td>80.0</td>\n",
       "      <td>3000.0</td>\n",
       "      <td>0.038801</td>\n",
       "      <td>470.958012</td>\n",
       "    </tr>\n",
       "    <tr>\n",
       "      <th>2371</th>\n",
       "      <td>80.0</td>\n",
       "      <td>3000.0</td>\n",
       "      <td>0.038114</td>\n",
       "      <td>461.278280</td>\n",
       "    </tr>\n",
       "    <tr>\n",
       "      <th>2372</th>\n",
       "      <td>80.0</td>\n",
       "      <td>3000.0</td>\n",
       "      <td>0.037426</td>\n",
       "      <td>435.774511</td>\n",
       "    </tr>\n",
       "    <tr>\n",
       "      <th>2373</th>\n",
       "      <td>80.0</td>\n",
       "      <td>3000.0</td>\n",
       "      <td>0.036739</td>\n",
       "      <td>428.210342</td>\n",
       "    </tr>\n",
       "    <tr>\n",
       "      <th>2374</th>\n",
       "      <td>80.0</td>\n",
       "      <td>3000.0</td>\n",
       "      <td>0.036052</td>\n",
       "      <td>420.374218</td>\n",
       "    </tr>\n",
       "    <tr>\n",
       "      <th>2375</th>\n",
       "      <td>80.0</td>\n",
       "      <td>3000.0</td>\n",
       "      <td>0.035365</td>\n",
       "      <td>412.955515</td>\n",
       "    </tr>\n",
       "  </tbody>\n",
       "</table>\n",
       "<p>2376 rows × 4 columns</p>\n",
       "</div>"
      ],
      "text/plain": [
       "        Tm      Pr        Th          Sv\n",
       "0    -20.0   500.0  0.027368  350.861031\n",
       "1    -20.0   500.0  0.027023  343.897695\n",
       "2    -20.0   500.0  0.026678  336.475830\n",
       "3    -20.0   500.0  0.026333  330.290415\n",
       "4    -20.0   500.0  0.025988  324.433876\n",
       "5    -20.0   500.0  0.025643  318.877755\n",
       "6    -20.0   500.0  0.025298  313.597383\n",
       "7    -20.0   500.0  0.024952  307.783220\n",
       "8    -20.0   500.0  0.024607  303.003753\n",
       "9    -20.0   500.0  0.024262  298.439954\n",
       "10   -20.0   500.0  0.023917  294.076643\n",
       "11   -20.0   500.0  0.023800  292.737419\n",
       "12   -20.0   500.0  0.024145  297.040330\n",
       "13   -20.0   500.0  0.023682  291.415903\n",
       "14   -20.0   500.0  0.024490  301.538986\n",
       "15   -20.0   500.0  0.024027  295.660312\n",
       "16   -20.0   500.0  0.023564  290.112412\n",
       "17   -20.0   500.0  0.024835  306.248566\n",
       "18   -20.0   500.0  0.024372  300.095723\n",
       "19   -20.0   500.0  0.023909  294.299268\n",
       "20   -20.0   500.0  0.023446  288.826314\n",
       "21   -20.0   500.0  0.025180  311.983041\n",
       "22   -20.0   500.0  0.024717  304.736681\n",
       "23   -20.0   500.0  0.024254  298.672698\n",
       "24   -20.0   500.0  0.023791  292.956881\n",
       "25   -20.0   500.0  0.023328  287.556976\n",
       "26   -20.0   500.0  0.025525  317.179612\n",
       "27   -20.0   500.0  0.025062  309.600264\n",
       "28   -20.0   500.0  0.024599  303.247249\n",
       "29   -20.0   500.0  0.024136  297.269911\n",
       "...    ...     ...       ...         ...\n",
       "2346  80.0  3000.0  0.037256  433.412289\n",
       "2347  80.0  3000.0  0.036569  425.974612\n",
       "2348  80.0  3000.0  0.035882  418.258655\n",
       "2349  80.0  3000.0  0.040520  503.235380\n",
       "2350  80.0  3000.0  0.039833  484.207955\n",
       "2351  80.0  3000.0  0.039146  473.611163\n",
       "2352  80.0  3000.0  0.038458  465.850933\n",
       "2353  80.0  3000.0  0.037771  439.923419\n",
       "2354  80.0  3000.0  0.037084  431.413730\n",
       "2355  80.0  3000.0  0.036397  424.083570\n",
       "2356  80.0  3000.0  0.035709  416.468806\n",
       "2357  80.0  3000.0  0.041035  512.548288\n",
       "2358  80.0  3000.0  0.040348  492.755592\n",
       "2359  80.0  3000.0  0.039661  481.599076\n",
       "2360  80.0  3000.0  0.038973  473.373992\n",
       "2361  80.0  3000.0  0.038286  463.545633\n",
       "2362  80.0  3000.0  0.037599  437.833153\n",
       "2363  80.0  3000.0  0.036911  429.443631\n",
       "2364  80.0  3000.0  0.036224  422.217826\n",
       "2365  80.0  3000.0  0.035537  414.701092\n",
       "2366  80.0  3000.0  0.041550  514.426681\n",
       "2367  80.0  3000.0  0.040863  509.550449\n",
       "2368  80.0  3000.0  0.040176  490.007573\n",
       "2369  80.0  3000.0  0.039488  479.031307\n",
       "2370  80.0  3000.0  0.038801  470.958012\n",
       "2371  80.0  3000.0  0.038114  461.278280\n",
       "2372  80.0  3000.0  0.037426  435.774511\n",
       "2373  80.0  3000.0  0.036739  428.210342\n",
       "2374  80.0  3000.0  0.036052  420.374218\n",
       "2375  80.0  3000.0  0.035365  412.955515\n",
       "\n",
       "[2376 rows x 4 columns]"
      ]
     },
     "metadata": {},
     "output_type": "display_data"
    }
   ],
   "source": [
    "display(X)"
   ]
  },
  {
   "cell_type": "code",
   "execution_count": 167,
   "metadata": {},
   "outputs": [
    {
     "data": {
      "text/plain": [
       "0       54.903239\n",
       "1       52.155342\n",
       "2       49.533201\n",
       "3       47.025757\n",
       "4       44.623440\n",
       "5       42.317666\n",
       "6       40.100947\n",
       "7       37.966499\n",
       "8       35.908336\n",
       "9       33.921085\n",
       "10      31.999840\n",
       "11      31.510456\n",
       "12      33.413292\n",
       "13      31.026129\n",
       "14      35.380812\n",
       "15      32.910977\n",
       "16      30.546789\n",
       "17      37.417682\n",
       "18      34.859146\n",
       "19      32.413982\n",
       "20      30.072296\n",
       "21      39.529174\n",
       "22      36.875242\n",
       "23      34.343251\n",
       "24      31.922231\n",
       "25      29.602586\n",
       "26      41.721084\n",
       "27      38.964281\n",
       "28      36.338984\n",
       "29      33.832958\n",
       "          ...    \n",
       "2346    32.851385\n",
       "2347    30.510516\n",
       "2348    28.265633\n",
       "2349    45.712834\n",
       "2350    42.766434\n",
       "2351    39.971895\n",
       "2352    37.314218\n",
       "2353    34.780388\n",
       "2354    32.359131\n",
       "2355    30.040605\n",
       "2356    27.816171\n",
       "2357    48.153568\n",
       "2358    45.078029\n",
       "2359    42.167618\n",
       "2360    39.405397\n",
       "2361    36.776833\n",
       "2362    34.269368\n",
       "2363    31.872086\n",
       "2364    29.575444\n",
       "2365    27.371055\n",
       "2366    50.704453\n",
       "2367    47.488070\n",
       "2368    44.451779\n",
       "2369    41.576415\n",
       "2370    38.845709\n",
       "2371    36.245589\n",
       "2372    33.763911\n",
       "2373    31.390100\n",
       "2374    29.114900\n",
       "2375    26.930167\n",
       "Name: Idx, Length: 2376, dtype: float64"
      ]
     },
     "metadata": {},
     "output_type": "display_data"
    }
   ],
   "source": [
    "display(y)"
   ]
  },
  {
   "cell_type": "code",
   "execution_count": 168,
   "metadata": {},
   "outputs": [
    {
     "data": {
      "text/plain": [
       "(2376, 4)"
      ]
     },
     "execution_count": 168,
     "metadata": {},
     "output_type": "execute_result"
    }
   ],
   "source": [
    "X.shape"
   ]
  },
  {
   "cell_type": "code",
   "execution_count": 169,
   "metadata": {},
   "outputs": [
    {
     "data": {
      "text/plain": [
       "pandas.core.frame.DataFrame"
      ]
     },
     "execution_count": 169,
     "metadata": {},
     "output_type": "execute_result"
    }
   ],
   "source": [
    "type(X)"
   ]
  },
  {
   "cell_type": "code",
   "execution_count": 170,
   "metadata": {},
   "outputs": [
    {
     "data": {
      "text/plain": [
       "pandas.core.series.Series"
      ]
     },
     "execution_count": 170,
     "metadata": {},
     "output_type": "execute_result"
    }
   ],
   "source": [
    "type(y)"
   ]
  },
  {
   "cell_type": "code",
   "execution_count": 171,
   "metadata": {},
   "outputs": [
    {
     "data": {
      "text/plain": [
       "<matplotlib.collections.PathCollection at 0x1f5e9b95518>"
      ]
     },
     "execution_count": 171,
     "metadata": {},
     "output_type": "execute_result"
    },
    {
     "data": {
      "image/png": "[encoded data removed]",
      "text/plain": [
       "<matplotlib.figure.Figure at 0x1f5ef4b63c8>"
      ]
     },
     "metadata": {},
     "output_type": "display_data"
    }
   ],
   "source": [
    "plt.scatter(np.asarray(X.iloc[:,3]),y )"
   ]
  },
  {
   "cell_type": "code",
   "execution_count": 172,
   "metadata": {},
   "outputs": [
    {
     "data": {
      "text/plain": [
       "<matplotlib.collections.PathCollection at 0x1f5e9b964e0>"
      ]
     },
     "execution_count": 172,
     "metadata": {},
     "output_type": "execute_result"
    },
    {
     "data": {
      "image/png": "[encoded data removed]",
      "text/plain": [
       "<matplotlib.figure.Figure at 0x1f5ea945da0>"
      ]
     },
     "metadata": {},
     "output_type": "display_data"
    }
   ],
   "source": [
    "plt.scatter(np.asarray(X.iloc[:,2]),y )"
   ]
  },
  {
   "cell_type": "code",
   "execution_count": 173,
   "metadata": {},
   "outputs": [
    {
     "data": {
      "text/plain": [
       "<matplotlib.collections.PathCollection at 0x1f5ead89d68>"
      ]
     },
     "execution_count": 173,
     "metadata": {},
     "output_type": "execute_result"
    },
    {
     "data": {
      "image/png": "[encoded data removed]",
      "text/plain": [
       "<matplotlib.figure.Figure at 0x1f5eae06630>"
      ]
     },
     "metadata": {},
     "output_type": "display_data"
    }
   ],
   "source": [
    "plt.scatter(np.asarray(X.iloc[:,1]),y )"
   ]
  },
  {
   "cell_type": "code",
   "execution_count": 174,
   "metadata": {},
   "outputs": [
    {
     "data": {
      "text/plain": [
       "<matplotlib.collections.PathCollection at 0x1f5eac6a048>"
      ]
     },
     "execution_count": 174,
     "metadata": {},
     "output_type": "execute_result"
    },
    {
     "data": {
      "image/png": "[encoded data removed]",
      "text/plain": [
       "<matplotlib.figure.Figure at 0x1f5ead17128>"
      ]
     },
     "metadata": {},
     "output_type": "display_data"
    }
   ],
   "source": [
    "plt.scatter(np.asarray(X.iloc[:,0]),y )"
   ]
  },
  {
   "cell_type": "code",
   "execution_count": 175,
   "metadata": {},
   "outputs": [
    {
     "data": {
      "text/plain": [
       "<seaborn.axisgrid.PairGrid at 0x1f5ead18518>"
      ]
     },
     "execution_count": 175,
     "metadata": {},
     "output_type": "execute_result"
    },
    {
     "data": {
      "image/png": "[encoded data removed]",
      "text/plain": [
       "<matplotlib.figure.Figure at 0x1f5ead184e0>"
      ]
     },
     "metadata": {},
     "output_type": "display_data"
    }
   ],
   "source": [
    "sns.pairplot(data[['Tm','Th', ' Pr','Sv','Idx']])"
   ]
  },
  {
   "cell_type": "code",
   "execution_count": 176,
   "metadata": {
    "collapsed": true
   },
   "outputs": [],
   "source": [
    "from sklearn.linear_model import LinearRegression"
   ]
  },
  {
   "cell_type": "code",
   "execution_count": 177,
   "metadata": {
    "collapsed": true
   },
   "outputs": [],
   "source": [
    "lr = LinearRegression()"
   ]
  },
  {
   "cell_type": "code",
   "execution_count": 178,
   "metadata": {},
   "outputs": [],
   "source": [
    "from sklearn.cross_validation import train_test_split\n",
    "X_train, X_test, y_train, y_test = train_test_split(X, y, test_size = 0.25, random_state = 0)"
   ]
  },
  {
   "cell_type": "code",
   "execution_count": 190,
   "metadata": {},
   "outputs": [
    {
     "data": {
      "text/html": [
       "<div>\n",
       "<style>\n",
       "    .dataframe thead tr:only-child th {\n",
       "        text-align: right;\n",
       "    }\n",
       "\n",
       "    .dataframe thead th {\n",
       "        text-align: left;\n",
       "    }\n",
       "\n",
       "    .dataframe tbody tr th {\n",
       "        vertical-align: top;\n",
       "    }\n",
       "</style>\n",
       "<table border=\"1\" class=\"dataframe\">\n",
       "  <thead>\n",
       "    <tr style=\"text-align: right;\">\n",
       "      <th></th>\n",
       "      <th>Tm</th>\n",
       "      <th>Pr</th>\n",
       "      <th>Th</th>\n",
       "      <th>Sv</th>\n",
       "    </tr>\n",
       "  </thead>\n",
       "  <tbody>\n",
       "    <tr>\n",
       "      <th>521</th>\n",
       "      <td>0.0</td>\n",
       "      <td>1000.0</td>\n",
       "      <td>0.028255</td>\n",
       "      <td>349.358949</td>\n",
       "    </tr>\n",
       "    <tr>\n",
       "      <th>1430</th>\n",
       "      <td>40.0</td>\n",
       "      <td>2000.0</td>\n",
       "      <td>0.031596</td>\n",
       "      <td>370.871924</td>\n",
       "    </tr>\n",
       "    <tr>\n",
       "      <th>1993</th>\n",
       "      <td>80.0</td>\n",
       "      <td>500.0</td>\n",
       "      <td>0.036743</td>\n",
       "      <td>345.908904</td>\n",
       "    </tr>\n",
       "    <tr>\n",
       "      <th>77</th>\n",
       "      <td>-20.0</td>\n",
       "      <td>1000.0</td>\n",
       "      <td>0.023800</td>\n",
       "      <td>293.486879</td>\n",
       "    </tr>\n",
       "    <tr>\n",
       "      <th>1301</th>\n",
       "      <td>40.0</td>\n",
       "      <td>1000.0</td>\n",
       "      <td>0.034990</td>\n",
       "      <td>402.962718</td>\n",
       "    </tr>\n",
       "    <tr>\n",
       "      <th>393</th>\n",
       "      <td>-20.0</td>\n",
       "      <td>3000.0</td>\n",
       "      <td>0.023665</td>\n",
       "      <td>323.779285</td>\n",
       "    </tr>\n",
       "    <tr>\n",
       "      <th>2259</th>\n",
       "      <td>80.0</td>\n",
       "      <td>2500.0</td>\n",
       "      <td>0.037258</td>\n",
       "      <td>425.800687</td>\n",
       "    </tr>\n",
       "    <tr>\n",
       "      <th>262</th>\n",
       "      <td>-20.0</td>\n",
       "      <td>2000.0</td>\n",
       "      <td>0.023202</td>\n",
       "      <td>297.325251</td>\n",
       "    </tr>\n",
       "    <tr>\n",
       "      <th>1043</th>\n",
       "      <td>20.0</td>\n",
       "      <td>2000.0</td>\n",
       "      <td>0.028852</td>\n",
       "      <td>349.988242</td>\n",
       "    </tr>\n",
       "    <tr>\n",
       "      <th>2253</th>\n",
       "      <td>80.0</td>\n",
       "      <td>2500.0</td>\n",
       "      <td>0.037603</td>\n",
       "      <td>429.804130</td>\n",
       "    </tr>\n",
       "    <tr>\n",
       "      <th>240</th>\n",
       "      <td>-20.0</td>\n",
       "      <td>2000.0</td>\n",
       "      <td>0.024826</td>\n",
       "      <td>318.071374</td>\n",
       "    </tr>\n",
       "    <tr>\n",
       "      <th>1119</th>\n",
       "      <td>20.0</td>\n",
       "      <td>2500.0</td>\n",
       "      <td>0.028714</td>\n",
       "      <td>362.627866</td>\n",
       "    </tr>\n",
       "    <tr>\n",
       "      <th>2173</th>\n",
       "      <td>80.0</td>\n",
       "      <td>1500.0</td>\n",
       "      <td>0.038114</td>\n",
       "      <td>405.818254</td>\n",
       "    </tr>\n",
       "    <tr>\n",
       "      <th>1945</th>\n",
       "      <td>60.0</td>\n",
       "      <td>3000.0</td>\n",
       "      <td>0.033342</td>\n",
       "      <td>407.339310</td>\n",
       "    </tr>\n",
       "    <tr>\n",
       "      <th>1625</th>\n",
       "      <td>60.0</td>\n",
       "      <td>500.0</td>\n",
       "      <td>0.036217</td>\n",
       "      <td>360.939210</td>\n",
       "    </tr>\n",
       "    <tr>\n",
       "      <th>1630</th>\n",
       "      <td>60.0</td>\n",
       "      <td>500.0</td>\n",
       "      <td>0.033023</td>\n",
       "      <td>325.588108</td>\n",
       "    </tr>\n",
       "    <tr>\n",
       "      <th>381</th>\n",
       "      <td>-20.0</td>\n",
       "      <td>3000.0</td>\n",
       "      <td>0.024709</td>\n",
       "      <td>345.327045</td>\n",
       "    </tr>\n",
       "    <tr>\n",
       "      <th>1516</th>\n",
       "      <td>40.0</td>\n",
       "      <td>2500.0</td>\n",
       "      <td>0.030709</td>\n",
       "      <td>367.927843</td>\n",
       "    </tr>\n",
       "    <tr>\n",
       "      <th>1694</th>\n",
       "      <td>60.0</td>\n",
       "      <td>1000.0</td>\n",
       "      <td>0.034300</td>\n",
       "      <td>350.585913</td>\n",
       "    </tr>\n",
       "    <tr>\n",
       "      <th>1837</th>\n",
       "      <td>60.0</td>\n",
       "      <td>2000.0</td>\n",
       "      <td>0.032863</td>\n",
       "      <td>367.093002</td>\n",
       "    </tr>\n",
       "    <tr>\n",
       "      <th>666</th>\n",
       "      <td>0.0</td>\n",
       "      <td>2500.0</td>\n",
       "      <td>0.028010</td>\n",
       "      <td>389.336463</td>\n",
       "    </tr>\n",
       "    <tr>\n",
       "      <th>2177</th>\n",
       "      <td>80.0</td>\n",
       "      <td>1500.0</td>\n",
       "      <td>0.035365</td>\n",
       "      <td>360.980320</td>\n",
       "    </tr>\n",
       "    <tr>\n",
       "      <th>2114</th>\n",
       "      <td>80.0</td>\n",
       "      <td>1500.0</td>\n",
       "      <td>0.041208</td>\n",
       "      <td>448.774634</td>\n",
       "    </tr>\n",
       "    <tr>\n",
       "      <th>937</th>\n",
       "      <td>20.0</td>\n",
       "      <td>1500.0</td>\n",
       "      <td>0.028723</td>\n",
       "      <td>325.417345</td>\n",
       "    </tr>\n",
       "    <tr>\n",
       "      <th>491</th>\n",
       "      <td>0.0</td>\n",
       "      <td>1000.0</td>\n",
       "      <td>0.026738</td>\n",
       "      <td>311.148199</td>\n",
       "    </tr>\n",
       "    <tr>\n",
       "      <th>106</th>\n",
       "      <td>-20.0</td>\n",
       "      <td>1000.0</td>\n",
       "      <td>0.025752</td>\n",
       "      <td>332.152996</td>\n",
       "    </tr>\n",
       "    <tr>\n",
       "      <th>85</th>\n",
       "      <td>-20.0</td>\n",
       "      <td>1000.0</td>\n",
       "      <td>0.023909</td>\n",
       "      <td>295.052839</td>\n",
       "    </tr>\n",
       "    <tr>\n",
       "      <th>202</th>\n",
       "      <td>-20.0</td>\n",
       "      <td>2000.0</td>\n",
       "      <td>0.025988</td>\n",
       "      <td>359.007058</td>\n",
       "    </tr>\n",
       "    <tr>\n",
       "      <th>15</th>\n",
       "      <td>-20.0</td>\n",
       "      <td>500.0</td>\n",
       "      <td>0.024027</td>\n",
       "      <td>295.660312</td>\n",
       "    </tr>\n",
       "    <tr>\n",
       "      <th>474</th>\n",
       "      <td>0.0</td>\n",
       "      <td>1000.0</td>\n",
       "      <td>0.026744</td>\n",
       "      <td>310.908183</td>\n",
       "    </tr>\n",
       "    <tr>\n",
       "      <th>...</th>\n",
       "      <td>...</td>\n",
       "      <td>...</td>\n",
       "      <td>...</td>\n",
       "      <td>...</td>\n",
       "    </tr>\n",
       "    <tr>\n",
       "      <th>714</th>\n",
       "      <td>0.0</td>\n",
       "      <td>2500.0</td>\n",
       "      <td>0.025846</td>\n",
       "      <td>324.626776</td>\n",
       "    </tr>\n",
       "    <tr>\n",
       "      <th>544</th>\n",
       "      <td>0.0</td>\n",
       "      <td>1500.0</td>\n",
       "      <td>0.026108</td>\n",
       "      <td>304.422667</td>\n",
       "    </tr>\n",
       "    <tr>\n",
       "      <th>639</th>\n",
       "      <td>0.0</td>\n",
       "      <td>2000.0</td>\n",
       "      <td>0.025974</td>\n",
       "      <td>311.563723</td>\n",
       "    </tr>\n",
       "    <tr>\n",
       "      <th>423</th>\n",
       "      <td>0.0</td>\n",
       "      <td>500.0</td>\n",
       "      <td>0.027753</td>\n",
       "      <td>322.413181</td>\n",
       "    </tr>\n",
       "    <tr>\n",
       "      <th>659</th>\n",
       "      <td>0.0</td>\n",
       "      <td>2000.0</td>\n",
       "      <td>0.025210</td>\n",
       "      <td>303.387970</td>\n",
       "    </tr>\n",
       "    <tr>\n",
       "      <th>797</th>\n",
       "      <td>20.0</td>\n",
       "      <td>500.0</td>\n",
       "      <td>0.031042</td>\n",
       "      <td>344.002051</td>\n",
       "    </tr>\n",
       "    <tr>\n",
       "      <th>2357</th>\n",
       "      <td>80.0</td>\n",
       "      <td>3000.0</td>\n",
       "      <td>0.041035</td>\n",
       "      <td>512.548288</td>\n",
       "    </tr>\n",
       "    <tr>\n",
       "      <th>2008</th>\n",
       "      <td>80.0</td>\n",
       "      <td>500.0</td>\n",
       "      <td>0.038116</td>\n",
       "      <td>360.863315</td>\n",
       "    </tr>\n",
       "    <tr>\n",
       "      <th>99</th>\n",
       "      <td>-20.0</td>\n",
       "      <td>1000.0</td>\n",
       "      <td>0.025407</td>\n",
       "      <td>326.584225</td>\n",
       "    </tr>\n",
       "    <tr>\n",
       "      <th>1871</th>\n",
       "      <td>60.0</td>\n",
       "      <td>2500.0</td>\n",
       "      <td>0.034779</td>\n",
       "      <td>410.526886</td>\n",
       "    </tr>\n",
       "    <tr>\n",
       "      <th>2046</th>\n",
       "      <td>80.0</td>\n",
       "      <td>1000.0</td>\n",
       "      <td>0.042237</td>\n",
       "      <td>457.338082</td>\n",
       "    </tr>\n",
       "    <tr>\n",
       "      <th>755</th>\n",
       "      <td>0.0</td>\n",
       "      <td>3000.0</td>\n",
       "      <td>0.026738</td>\n",
       "      <td>349.627743</td>\n",
       "    </tr>\n",
       "    <tr>\n",
       "      <th>976</th>\n",
       "      <td>20.0</td>\n",
       "      <td>1500.0</td>\n",
       "      <td>0.029398</td>\n",
       "      <td>333.781569</td>\n",
       "    </tr>\n",
       "    <tr>\n",
       "      <th>2163</th>\n",
       "      <td>80.0</td>\n",
       "      <td>1500.0</td>\n",
       "      <td>0.038286</td>\n",
       "      <td>407.813652</td>\n",
       "    </tr>\n",
       "    <tr>\n",
       "      <th>1940</th>\n",
       "      <td>60.0</td>\n",
       "      <td>3000.0</td>\n",
       "      <td>0.036536</td>\n",
       "      <td>464.876952</td>\n",
       "    </tr>\n",
       "    <tr>\n",
       "      <th>2120</th>\n",
       "      <td>80.0</td>\n",
       "      <td>1500.0</td>\n",
       "      <td>0.038118</td>\n",
       "      <td>405.166825</td>\n",
       "    </tr>\n",
       "    <tr>\n",
       "      <th>537</th>\n",
       "      <td>0.0</td>\n",
       "      <td>1500.0</td>\n",
       "      <td>0.026873</td>\n",
       "      <td>321.698506</td>\n",
       "    </tr>\n",
       "    <tr>\n",
       "      <th>1701</th>\n",
       "      <td>60.0</td>\n",
       "      <td>1000.0</td>\n",
       "      <td>0.035419</td>\n",
       "      <td>379.935012</td>\n",
       "    </tr>\n",
       "    <tr>\n",
       "      <th>2222</th>\n",
       "      <td>80.0</td>\n",
       "      <td>2000.0</td>\n",
       "      <td>0.037084</td>\n",
       "      <td>409.274624</td>\n",
       "    </tr>\n",
       "    <tr>\n",
       "      <th>2135</th>\n",
       "      <td>80.0</td>\n",
       "      <td>1500.0</td>\n",
       "      <td>0.037601</td>\n",
       "      <td>399.373533</td>\n",
       "    </tr>\n",
       "    <tr>\n",
       "      <th>705</th>\n",
       "      <td>0.0</td>\n",
       "      <td>2500.0</td>\n",
       "      <td>0.025974</td>\n",
       "      <td>326.062450</td>\n",
       "    </tr>\n",
       "    <tr>\n",
       "      <th>2362</th>\n",
       "      <td>80.0</td>\n",
       "      <td>3000.0</td>\n",
       "      <td>0.037599</td>\n",
       "      <td>437.833153</td>\n",
       "    </tr>\n",
       "    <tr>\n",
       "      <th>1828</th>\n",
       "      <td>60.0</td>\n",
       "      <td>2000.0</td>\n",
       "      <td>0.033023</td>\n",
       "      <td>368.655167</td>\n",
       "    </tr>\n",
       "    <tr>\n",
       "      <th>1778</th>\n",
       "      <td>60.0</td>\n",
       "      <td>1500.0</td>\n",
       "      <td>0.034620</td>\n",
       "      <td>370.609455</td>\n",
       "    </tr>\n",
       "    <tr>\n",
       "      <th>277</th>\n",
       "      <td>-20.0</td>\n",
       "      <td>2500.0</td>\n",
       "      <td>0.023682</td>\n",
       "      <td>316.490235</td>\n",
       "    </tr>\n",
       "    <tr>\n",
       "      <th>1033</th>\n",
       "      <td>20.0</td>\n",
       "      <td>2000.0</td>\n",
       "      <td>0.029536</td>\n",
       "      <td>365.922959</td>\n",
       "    </tr>\n",
       "    <tr>\n",
       "      <th>1731</th>\n",
       "      <td>60.0</td>\n",
       "      <td>1500.0</td>\n",
       "      <td>0.034459</td>\n",
       "      <td>368.319966</td>\n",
       "    </tr>\n",
       "    <tr>\n",
       "      <th>763</th>\n",
       "      <td>0.0</td>\n",
       "      <td>3000.0</td>\n",
       "      <td>0.026103</td>\n",
       "      <td>348.223691</td>\n",
       "    </tr>\n",
       "    <tr>\n",
       "      <th>835</th>\n",
       "      <td>20.0</td>\n",
       "      <td>500.0</td>\n",
       "      <td>0.029536</td>\n",
       "      <td>323.172128</td>\n",
       "    </tr>\n",
       "    <tr>\n",
       "      <th>1653</th>\n",
       "      <td>60.0</td>\n",
       "      <td>1000.0</td>\n",
       "      <td>0.037654</td>\n",
       "      <td>419.235798</td>\n",
       "    </tr>\n",
       "  </tbody>\n",
       "</table>\n",
       "<p>1782 rows × 4 columns</p>\n",
       "</div>"
      ],
      "text/plain": [
       "        Tm      Pr        Th          Sv\n",
       "521    0.0  1000.0  0.028255  349.358949\n",
       "1430  40.0  2000.0  0.031596  370.871924\n",
       "1993  80.0   500.0  0.036743  345.908904\n",
       "77   -20.0  1000.0  0.023800  293.486879\n",
       "1301  40.0  1000.0  0.034990  402.962718\n",
       "393  -20.0  3000.0  0.023665  323.779285\n",
       "2259  80.0  2500.0  0.037258  425.800687\n",
       "262  -20.0  2000.0  0.023202  297.325251\n",
       "1043  20.0  2000.0  0.028852  349.988242\n",
       "2253  80.0  2500.0  0.037603  429.804130\n",
       "240  -20.0  2000.0  0.024826  318.071374\n",
       "1119  20.0  2500.0  0.028714  362.627866\n",
       "2173  80.0  1500.0  0.038114  405.818254\n",
       "1945  60.0  3000.0  0.033342  407.339310\n",
       "1625  60.0   500.0  0.036217  360.939210\n",
       "1630  60.0   500.0  0.033023  325.588108\n",
       "381  -20.0  3000.0  0.024709  345.327045\n",
       "1516  40.0  2500.0  0.030709  367.927843\n",
       "1694  60.0  1000.0  0.034300  350.585913\n",
       "1837  60.0  2000.0  0.032863  367.093002\n",
       "666    0.0  2500.0  0.028010  389.336463\n",
       "2177  80.0  1500.0  0.035365  360.980320\n",
       "2114  80.0  1500.0  0.041208  448.774634\n",
       "937   20.0  1500.0  0.028723  325.417345\n",
       "491    0.0  1000.0  0.026738  311.148199\n",
       "106  -20.0  1000.0  0.025752  332.152996\n",
       "85   -20.0  1000.0  0.023909  295.052839\n",
       "202  -20.0  2000.0  0.025988  359.007058\n",
       "15   -20.0   500.0  0.024027  295.660312\n",
       "474    0.0  1000.0  0.026744  310.908183\n",
       "...    ...     ...       ...         ...\n",
       "714    0.0  2500.0  0.025846  324.626776\n",
       "544    0.0  1500.0  0.026108  304.422667\n",
       "639    0.0  2000.0  0.025974  311.563723\n",
       "423    0.0   500.0  0.027753  322.413181\n",
       "659    0.0  2000.0  0.025210  303.387970\n",
       "797   20.0   500.0  0.031042  344.002051\n",
       "2357  80.0  3000.0  0.041035  512.548288\n",
       "2008  80.0   500.0  0.038116  360.863315\n",
       "99   -20.0  1000.0  0.025407  326.584225\n",
       "1871  60.0  2500.0  0.034779  410.526886\n",
       "2046  80.0  1000.0  0.042237  457.338082\n",
       "755    0.0  3000.0  0.026738  349.627743\n",
       "976   20.0  1500.0  0.029398  333.781569\n",
       "2163  80.0  1500.0  0.038286  407.813652\n",
       "1940  60.0  3000.0  0.036536  464.876952\n",
       "2120  80.0  1500.0  0.038118  405.166825\n",
       "537    0.0  1500.0  0.026873  321.698506\n",
       "1701  60.0  1000.0  0.035419  379.935012\n",
       "2222  80.0  2000.0  0.037084  409.274624\n",
       "2135  80.0  1500.0  0.037601  399.373533\n",
       "705    0.0  2500.0  0.025974  326.062450\n",
       "2362  80.0  3000.0  0.037599  437.833153\n",
       "1828  60.0  2000.0  0.033023  368.655167\n",
       "1778  60.0  1500.0  0.034620  370.609455\n",
       "277  -20.0  2500.0  0.023682  316.490235\n",
       "1033  20.0  2000.0  0.029536  365.922959\n",
       "1731  60.0  1500.0  0.034459  368.319966\n",
       "763    0.0  3000.0  0.026103  348.223691\n",
       "835   20.0   500.0  0.029536  323.172128\n",
       "1653  60.0  1000.0  0.037654  419.235798\n",
       "\n",
       "[1782 rows x 4 columns]"
      ]
     },
     "execution_count": 190,
     "metadata": {},
     "output_type": "execute_result"
    }
   ],
   "source": [
    "X_train"
   ]
  },
  {
   "cell_type": "code",
   "execution_count": 179,
   "metadata": {},
   "outputs": [
    {
     "data": {
      "text/plain": [
       "LinearRegression(copy_X=True, fit_intercept=True, n_jobs=1, normalize=False)"
      ]
     },
     "execution_count": 179,
     "metadata": {},
     "output_type": "execute_result"
    }
   ],
   "source": [
    "lr.fit(X_train,y_train)"
   ]
  },
  {
   "cell_type": "code",
   "execution_count": 180,
   "metadata": {
    "collapsed": true
   },
   "outputs": [],
   "source": [
    "preds = lr.predict(X_test)"
   ]
  },
  {
   "cell_type": "code",
   "execution_count": 181,
   "metadata": {},
   "outputs": [
    {
     "data": {
      "text/plain": [
       "array([42.18475209, 39.52769705, 31.02481596, 37.30529729, 26.37136268,\n",
       "       42.39639933, 31.54918065, 35.14470889, 38.03401031, 49.2717314 ,\n",
       "       33.1058474 , 45.00122977, 36.46698284, 31.14226993, 46.17685991,\n",
       "       45.54227156, 27.7457939 , 38.24159121, 32.91775226, 32.73751355,\n",
       "       50.07971662, 36.76855049, 37.54378455, 38.99865325, 38.85891595,\n",
       "       32.43602437, 31.54950624, 29.17813344, 25.40258086, 29.63775823,\n",
       "       33.72462966, 37.13326634, 41.81068248, 43.25361537, 37.40096361,\n",
       "       32.83184869, 25.20437339, 36.42166078, 37.42665588, 26.32106884,\n",
       "       46.29052281, 29.62995178, 46.22441319, 25.09144442, 31.79331162,\n",
       "       37.39956534, 43.27619426, 49.08342761, 45.10769071, 44.8391056 ,\n",
       "       41.18631667, 30.68552153, 41.55537747, 51.37434944, 34.3983278 ,\n",
       "       37.22852858, 27.67020862, 37.07250837, 42.25427983, 30.71198232,\n",
       "       38.30327112, 34.83118065, 31.59042199, 41.13994189, 44.03260343,\n",
       "       29.30651943, 37.32098526, 45.77205878, 35.15472941, 46.76680478,\n",
       "       28.78283805, 30.702993  , 27.55623229, 31.64081448, 38.40554786,\n",
       "       45.10883714, 35.77626992, 42.90037842, 31.16225033, 31.82677027,\n",
       "       31.24254768, 33.91554735, 32.8058211 , 30.07610574, 32.0206527 ,\n",
       "       42.80589413, 39.77820887, 46.42460902, 30.61991638, 35.65417998,\n",
       "       27.49543993, 45.96179562, 40.10696926, 36.69979374, 38.05690991,\n",
       "       35.2098748 , 45.67234569, 36.94330471, 35.09121621, 35.01357646,\n",
       "       37.41397502, 42.76708665, 40.42612201, 35.91372969, 40.49484452,\n",
       "       45.57651986, 40.98263249, 45.58713562, 26.83562522, 43.17255003,\n",
       "       28.24850057, 36.9104366 , 33.61140931, 30.57123334, 35.35061228,\n",
       "       26.56128639, 35.17565183, 44.68590583, 54.86034084, 50.77217808,\n",
       "       40.13661028, 31.5551279 , 29.52621021, 27.17684947, 27.30070565,\n",
       "       33.6917108 , 26.78358109, 43.94152567, 36.00666866, 32.36689246,\n",
       "       36.40432495, 39.94319383, 38.41167986, 45.71624903, 35.7853639 ,\n",
       "       35.7605636 , 49.91262117, 43.41392878, 26.45909731, 45.73565444,\n",
       "       33.54583244, 52.87633568, 48.46845153, 35.13604232, 39.07551994,\n",
       "       28.48779546, 44.17500345, 43.44525603, 36.01770838, 25.66837806,\n",
       "       47.83351904, 35.84842206, 43.92859486, 32.99988856, 40.54288394,\n",
       "       34.93374774, 30.2998095 , 29.48630486, 50.78866764, 30.71958284,\n",
       "       42.03464328, 46.35633276, 37.96690774, 31.48798006, 35.26930165,\n",
       "       29.0368453 , 50.97289156, 38.68761413, 38.63060613, 32.13156856,\n",
       "       37.55798296, 39.12468826, 32.5008162 , 41.73957213, 41.53000932,\n",
       "       32.79856592, 40.90598911, 45.75838003, 38.30227434, 34.23762981,\n",
       "       45.7005262 , 32.69485489, 29.73397171, 28.3103689 , 39.59748243,\n",
       "       26.30101315, 30.54620593, 40.20413979, 34.06833591, 45.12873908,\n",
       "       34.09536048, 28.6606912 , 37.24597606, 31.40977614, 42.07882254,\n",
       "       39.10308231, 30.23091196, 37.24392505, 39.56216816, 41.016196  ,\n",
       "       38.16365108, 31.35228194, 28.66183533, 41.67990061, 32.48272016,\n",
       "       45.44546692, 49.92666312, 32.09850023, 39.81262251, 35.73190669,\n",
       "       32.88164067, 41.60871272, 33.10778381, 27.5556325 , 36.28855049,\n",
       "       37.96337434, 43.4727157 , 29.8147046 , 31.36464447, 36.05461954,\n",
       "       29.0502918 , 45.13195018, 48.29020336, 27.50747763, 25.41817593,\n",
       "       32.92544299, 37.02249861, 31.72139431, 31.76075417, 39.92656396,\n",
       "       41.03541798, 44.6881893 , 36.46206724, 36.93250587, 36.22465628,\n",
       "       40.57660803, 47.0085853 , 29.99746632, 37.32142514, 40.08277168,\n",
       "       45.19241678, 47.46075573, 46.3068928 , 38.05692608, 35.62550824,\n",
       "       43.53197737, 35.68655632, 38.07815114, 33.48629294, 33.58964759,\n",
       "       33.00069358, 44.18066918, 24.69514712, 41.95444592, 28.40759982,\n",
       "       31.17763682, 43.29327401, 41.32884871, 38.76760072, 33.81104696,\n",
       "       32.01786749, 40.81517011, 30.74000149, 51.91722585, 45.97690969,\n",
       "       34.47247466, 48.90036273, 31.21958116, 34.20552411, 29.718848  ,\n",
       "       26.12879354, 28.52503099, 42.48446566, 36.315296  , 48.27117392,\n",
       "       36.29338018, 40.01452727, 50.24095601, 36.757338  , 49.83312533,\n",
       "       30.15107562, 32.67128548, 41.11403158, 32.37699983, 43.40010007,\n",
       "       28.16937676, 38.03961702, 30.90967539, 33.40624702, 28.80291803,\n",
       "       48.46366227, 33.43445915, 51.65321767, 37.47893499, 38.53580513,\n",
       "       35.1281254 , 50.72519109, 38.81932764, 31.08004116, 42.24032514,\n",
       "       37.04864783, 39.32335544, 41.77936699, 38.58867161, 41.95009651,\n",
       "       33.41858427, 37.75347586, 44.60096942, 45.16775429, 36.73206729,\n",
       "       44.14905923, 38.39788417, 35.57017585, 41.68789021, 37.67750502,\n",
       "       42.01173443, 37.56362007, 36.95366985, 33.81066554, 29.94854742,\n",
       "       38.71277706, 32.69909714, 41.07196957, 39.57462392, 28.25156849,\n",
       "       31.55350365, 29.82298925, 29.69489794, 43.54800422, 36.30876244,\n",
       "       30.8755983 , 36.36923   , 36.84822878, 41.09223633, 50.22666123,\n",
       "       36.47659722, 40.04751974, 36.41110361, 39.03018366, 36.23695943,\n",
       "       35.71832989, 36.46327968, 40.38885984, 37.71069263, 35.65638497,\n",
       "       30.20416745, 33.5386956 , 41.79829835, 46.882874  , 40.23402197,\n",
       "       27.39790717, 44.625097  , 36.56307737, 49.87933058, 48.6212625 ,\n",
       "       43.21313911, 32.32906258, 26.81468138, 26.63677839, 48.42815031,\n",
       "       30.15261947, 31.3401662 , 34.20196588, 41.56860084, 41.0022708 ,\n",
       "       42.82775506, 46.81448412, 47.4092274 , 31.59135761, 29.72569551,\n",
       "       30.39933062, 25.93940413, 44.30652245, 34.43405415, 30.66166181,\n",
       "       28.46391839, 36.83734438, 36.23349154, 40.12386989, 31.83675302,\n",
       "       50.13626431, 31.02693256, 33.80868427, 34.09867496, 34.00622174,\n",
       "       37.27655223, 46.42431086, 35.88434112, 36.9085971 , 30.23268269,\n",
       "       47.31617143, 45.23244235, 30.07707959, 24.08786415, 30.66384711,\n",
       "       31.27298275, 27.53822491, 46.71033118, 42.76789583, 48.00169278,\n",
       "       32.59511684, 34.51077437, 35.52014799, 36.38329364, 26.64886466,\n",
       "       38.92044494, 27.75264763, 32.93090244, 41.1080992 , 27.95286292,\n",
       "       46.47674984, 46.09589854, 32.51858473, 52.08705646, 37.62645706,\n",
       "       46.75170735, 35.69789075, 44.53837297, 53.60167885, 37.86143531,\n",
       "       33.47212701, 31.59485831, 35.17420147, 34.07600062, 48.82921552,\n",
       "       42.3400856 , 29.49209943, 34.75793976, 37.02724144, 33.71246265,\n",
       "       24.94663346, 40.4748986 , 36.20486137, 39.36001944, 33.91747319,\n",
       "       33.00707022, 32.41281255, 26.0279731 , 45.62123351, 40.97852535,\n",
       "       36.36554968, 29.68372501, 30.71734482, 49.41360446, 30.68407085,\n",
       "       41.61691601, 31.56392153, 48.49435988, 28.46446004, 44.43436995,\n",
       "       47.26330917, 36.26488682, 45.3722113 , 36.9250691 , 37.98193822,\n",
       "       32.70064131, 32.31855949, 41.27718431, 33.22182892, 33.75634122,\n",
       "       42.18428309, 33.4490351 , 32.64622596, 37.55244162, 35.4183545 ,\n",
       "       39.55059359, 27.27062011, 31.81027715, 38.82323141, 35.08363985,\n",
       "       34.19453793, 29.62900775, 31.81941927, 50.12978948, 29.68733026,\n",
       "       36.36585935, 28.90812339, 37.68666073, 40.99799867, 37.83904082,\n",
       "       46.28151797, 33.71668066, 41.15084214, 47.48429693, 34.71598841,\n",
       "       41.49898166, 44.33255067, 35.6555632 , 32.3810596 , 42.8976011 ,\n",
       "       30.51884404, 46.59029692, 49.46355721, 35.65728293, 27.10063911,\n",
       "       31.24374869, 33.47922707, 34.52812748, 33.41957647, 36.71601   ,\n",
       "       31.83765277, 37.61429182, 36.96368281, 33.57519993, 44.787956  ,\n",
       "       32.09634318, 30.74313222, 39.55811132, 43.94235309, 33.58767531,\n",
       "       45.06040743, 28.64230269, 35.82795453, 31.25047891, 29.46094227,\n",
       "       32.71468407, 43.58055246, 36.33693789, 24.26462186, 51.97944121,\n",
       "       47.21692632, 49.71805986, 36.17068932, 34.21861644, 36.37807648,\n",
       "       35.14849803, 27.99035397, 28.65094242, 29.01851277, 42.16033795,\n",
       "       32.92247808, 42.36369568, 34.19570473, 39.91785918, 36.77084349,\n",
       "       36.38554312, 42.32774521, 26.17046443, 28.91536962, 32.29983044,\n",
       "       43.5385135 , 29.32691595, 35.34461754, 28.23998451, 45.86624084,\n",
       "       35.50628248, 35.71132501, 37.19183513, 34.12463382, 31.38029481,\n",
       "       34.34124566, 41.16326407, 40.34400276, 42.92164575, 35.85619396,\n",
       "       29.95762617, 39.25942641, 33.72921104, 28.32049414, 41.43544337,\n",
       "       37.86579421, 36.38177454, 34.20130367, 38.26085722, 46.43769929,\n",
       "       45.5822402 , 31.95032322, 46.54241392, 25.2698233 , 39.08010652,\n",
       "       31.38149408, 44.52521369, 29.87710328, 45.96700419, 42.79063813,\n",
       "       31.35005691, 34.03545506, 34.20273192, 32.05007282, 31.20387569,\n",
       "       34.177995  , 42.61210873, 33.84950978, 38.15207802, 40.31209653,\n",
       "       30.7801274 , 38.23797377, 27.57449056, 35.04930352, 33.35706267,\n",
       "       48.45668958, 26.90918209, 33.56070955, 52.66757524])"
      ]
     },
     "execution_count": 181,
     "metadata": {},
     "output_type": "execute_result"
    }
   ],
   "source": [
    "preds"
   ]
  },
  {
   "cell_type": "code",
   "execution_count": 182,
   "metadata": {
    "collapsed": true
   },
   "outputs": [],
   "source": [
    "def accuracy(y_tes, y_pred):\n",
    "    correct = 0\n",
    "    for i in range(len(y_pred)):\n",
    "        if(y_tes[i] == y_pred[i]):\n",
    "            correct += 1\n",
    "    return (correct/len(y_tes))*100"
   ]
  },
  {
   "cell_type": "code",
   "execution_count": 183,
   "metadata": {},
   "outputs": [
    {
     "data": {
      "text/plain": [
       "<seaborn.axisgrid.PairGrid at 0x1f5e9fd4470>"
      ]
     },
     "execution_count": 183,
     "metadata": {},
     "output_type": "execute_result"
    },
    {
     "data": {
      "image/png": "[encoded data removed]",
      "text/plain": [
       "<matplotlib.figure.Figure at 0x1f5e9f51d68>"
      ]
     },
     "metadata": {},
     "output_type": "display_data"
    }
   ],
   "source": [
    "sns.pairplot(X_test[['Tm','Th', ' Pr','Sv']])"
   ]
  },
  {
   "cell_type": "code",
   "execution_count": 184,
   "metadata": {},
   "outputs": [
    {
     "data": {
      "text/plain": [
       "898     43.165392\n",
       "182     39.961866\n",
       "565     30.868423\n",
       "457     36.681824\n",
       "2018    28.166977\n",
       "568     43.265383\n",
       "1339    32.159065\n",
       "778     34.653719\n",
       "562     38.300465\n",
       "716     51.278615\n",
       "953     33.656417\n",
       "501     46.253283\n",
       "688     36.227401\n",
       "829     30.799609\n",
       "57      48.173136\n",
       "2116    43.971186\n",
       "1770    29.678187\n",
       "2261    36.882226\n",
       "1646    33.845641\n",
       "1679    33.459044\n",
       "132     54.884849\n",
       "2305    36.244857\n",
       "1261    37.670958\n",
       "2278    37.857177\n",
       "974     39.767552\n",
       "1462    31.740276\n",
       "921     31.684115\n",
       "2149    30.499217\n",
       "1451    27.103949\n",
       "619     29.515964\n",
       "          ...    \n",
       "1323    46.658433\n",
       "1764    45.233622\n",
       "31      29.137526\n",
       "1887    45.868211\n",
       "1979    27.020044\n",
       "621     38.850980\n",
       "1901    31.980878\n",
       "1632    45.186446\n",
       "1538    29.824465\n",
       "1587    46.467874\n",
       "890     43.777671\n",
       "1835    31.982721\n",
       "1791    33.551328\n",
       "359     33.804680\n",
       "2016    32.736566\n",
       "309     30.457211\n",
       "1042    34.579768\n",
       "1501    42.432730\n",
       "1240    34.489431\n",
       "667     37.849900\n",
       "87      39.521672\n",
       "987     31.679500\n",
       "1459    37.659864\n",
       "1846    29.216089\n",
       "141     33.909532\n",
       "1794    33.049076\n",
       "1763    48.319649\n",
       "2077    28.689358\n",
       "1768    34.388109\n",
       "2366    50.704453\n",
       "Name: Idx, Length: 594, dtype: float64"
      ]
     },
     "execution_count": 184,
     "metadata": {},
     "output_type": "execute_result"
    }
   ],
   "source": [
    "y_test"
   ]
  },
  {
   "cell_type": "code",
   "execution_count": 185,
   "metadata": {},
   "outputs": [
    {
     "data": {
      "text/plain": [
       "array([42.18475209, 39.52769705, 31.02481596, 37.30529729, 26.37136268,\n",
       "       42.39639933, 31.54918065, 35.14470889, 38.03401031, 49.2717314 ,\n",
       "       33.1058474 , 45.00122977, 36.46698284, 31.14226993, 46.17685991,\n",
       "       45.54227156, 27.7457939 , 38.24159121, 32.91775226, 32.73751355,\n",
       "       50.07971662, 36.76855049, 37.54378455, 38.99865325, 38.85891595,\n",
       "       32.43602437, 31.54950624, 29.17813344, 25.40258086, 29.63775823,\n",
       "       33.72462966, 37.13326634, 41.81068248, 43.25361537, 37.40096361,\n",
       "       32.83184869, 25.20437339, 36.42166078, 37.42665588, 26.32106884,\n",
       "       46.29052281, 29.62995178, 46.22441319, 25.09144442, 31.79331162,\n",
       "       37.39956534, 43.27619426, 49.08342761, 45.10769071, 44.8391056 ,\n",
       "       41.18631667, 30.68552153, 41.55537747, 51.37434944, 34.3983278 ,\n",
       "       37.22852858, 27.67020862, 37.07250837, 42.25427983, 30.71198232,\n",
       "       38.30327112, 34.83118065, 31.59042199, 41.13994189, 44.03260343,\n",
       "       29.30651943, 37.32098526, 45.77205878, 35.15472941, 46.76680478,\n",
       "       28.78283805, 30.702993  , 27.55623229, 31.64081448, 38.40554786,\n",
       "       45.10883714, 35.77626992, 42.90037842, 31.16225033, 31.82677027,\n",
       "       31.24254768, 33.91554735, 32.8058211 , 30.07610574, 32.0206527 ,\n",
       "       42.80589413, 39.77820887, 46.42460902, 30.61991638, 35.65417998,\n",
       "       27.49543993, 45.96179562, 40.10696926, 36.69979374, 38.05690991,\n",
       "       35.2098748 , 45.67234569, 36.94330471, 35.09121621, 35.01357646,\n",
       "       37.41397502, 42.76708665, 40.42612201, 35.91372969, 40.49484452,\n",
       "       45.57651986, 40.98263249, 45.58713562, 26.83562522, 43.17255003,\n",
       "       28.24850057, 36.9104366 , 33.61140931, 30.57123334, 35.35061228,\n",
       "       26.56128639, 35.17565183, 44.68590583, 54.86034084, 50.77217808,\n",
       "       40.13661028, 31.5551279 , 29.52621021, 27.17684947, 27.30070565,\n",
       "       33.6917108 , 26.78358109, 43.94152567, 36.00666866, 32.36689246,\n",
       "       36.40432495, 39.94319383, 38.41167986, 45.71624903, 35.7853639 ,\n",
       "       35.7605636 , 49.91262117, 43.41392878, 26.45909731, 45.73565444,\n",
       "       33.54583244, 52.87633568, 48.46845153, 35.13604232, 39.07551994,\n",
       "       28.48779546, 44.17500345, 43.44525603, 36.01770838, 25.66837806,\n",
       "       47.83351904, 35.84842206, 43.92859486, 32.99988856, 40.54288394,\n",
       "       34.93374774, 30.2998095 , 29.48630486, 50.78866764, 30.71958284,\n",
       "       42.03464328, 46.35633276, 37.96690774, 31.48798006, 35.26930165,\n",
       "       29.0368453 , 50.97289156, 38.68761413, 38.63060613, 32.13156856,\n",
       "       37.55798296, 39.12468826, 32.5008162 , 41.73957213, 41.53000932,\n",
       "       32.79856592, 40.90598911, 45.75838003, 38.30227434, 34.23762981,\n",
       "       45.7005262 , 32.69485489, 29.73397171, 28.3103689 , 39.59748243,\n",
       "       26.30101315, 30.54620593, 40.20413979, 34.06833591, 45.12873908,\n",
       "       34.09536048, 28.6606912 , 37.24597606, 31.40977614, 42.07882254,\n",
       "       39.10308231, 30.23091196, 37.24392505, 39.56216816, 41.016196  ,\n",
       "       38.16365108, 31.35228194, 28.66183533, 41.67990061, 32.48272016,\n",
       "       45.44546692, 49.92666312, 32.09850023, 39.81262251, 35.73190669,\n",
       "       32.88164067, 41.60871272, 33.10778381, 27.5556325 , 36.28855049,\n",
       "       37.96337434, 43.4727157 , 29.8147046 , 31.36464447, 36.05461954,\n",
       "       29.0502918 , 45.13195018, 48.29020336, 27.50747763, 25.41817593,\n",
       "       32.92544299, 37.02249861, 31.72139431, 31.76075417, 39.92656396,\n",
       "       41.03541798, 44.6881893 , 36.46206724, 36.93250587, 36.22465628,\n",
       "       40.57660803, 47.0085853 , 29.99746632, 37.32142514, 40.08277168,\n",
       "       45.19241678, 47.46075573, 46.3068928 , 38.05692608, 35.62550824,\n",
       "       43.53197737, 35.68655632, 38.07815114, 33.48629294, 33.58964759,\n",
       "       33.00069358, 44.18066918, 24.69514712, 41.95444592, 28.40759982,\n",
       "       31.17763682, 43.29327401, 41.32884871, 38.76760072, 33.81104696,\n",
       "       32.01786749, 40.81517011, 30.74000149, 51.91722585, 45.97690969,\n",
       "       34.47247466, 48.90036273, 31.21958116, 34.20552411, 29.718848  ,\n",
       "       26.12879354, 28.52503099, 42.48446566, 36.315296  , 48.27117392,\n",
       "       36.29338018, 40.01452727, 50.24095601, 36.757338  , 49.83312533,\n",
       "       30.15107562, 32.67128548, 41.11403158, 32.37699983, 43.40010007,\n",
       "       28.16937676, 38.03961702, 30.90967539, 33.40624702, 28.80291803,\n",
       "       48.46366227, 33.43445915, 51.65321767, 37.47893499, 38.53580513,\n",
       "       35.1281254 , 50.72519109, 38.81932764, 31.08004116, 42.24032514,\n",
       "       37.04864783, 39.32335544, 41.77936699, 38.58867161, 41.95009651,\n",
       "       33.41858427, 37.75347586, 44.60096942, 45.16775429, 36.73206729,\n",
       "       44.14905923, 38.39788417, 35.57017585, 41.68789021, 37.67750502,\n",
       "       42.01173443, 37.56362007, 36.95366985, 33.81066554, 29.94854742,\n",
       "       38.71277706, 32.69909714, 41.07196957, 39.57462392, 28.25156849,\n",
       "       31.55350365, 29.82298925, 29.69489794, 43.54800422, 36.30876244,\n",
       "       30.8755983 , 36.36923   , 36.84822878, 41.09223633, 50.22666123,\n",
       "       36.47659722, 40.04751974, 36.41110361, 39.03018366, 36.23695943,\n",
       "       35.71832989, 36.46327968, 40.38885984, 37.71069263, 35.65638497,\n",
       "       30.20416745, 33.5386956 , 41.79829835, 46.882874  , 40.23402197,\n",
       "       27.39790717, 44.625097  , 36.56307737, 49.87933058, 48.6212625 ,\n",
       "       43.21313911, 32.32906258, 26.81468138, 26.63677839, 48.42815031,\n",
       "       30.15261947, 31.3401662 , 34.20196588, 41.56860084, 41.0022708 ,\n",
       "       42.82775506, 46.81448412, 47.4092274 , 31.59135761, 29.72569551,\n",
       "       30.39933062, 25.93940413, 44.30652245, 34.43405415, 30.66166181,\n",
       "       28.46391839, 36.83734438, 36.23349154, 40.12386989, 31.83675302,\n",
       "       50.13626431, 31.02693256, 33.80868427, 34.09867496, 34.00622174,\n",
       "       37.27655223, 46.42431086, 35.88434112, 36.9085971 , 30.23268269,\n",
       "       47.31617143, 45.23244235, 30.07707959, 24.08786415, 30.66384711,\n",
       "       31.27298275, 27.53822491, 46.71033118, 42.76789583, 48.00169278,\n",
       "       32.59511684, 34.51077437, 35.52014799, 36.38329364, 26.64886466,\n",
       "       38.92044494, 27.75264763, 32.93090244, 41.1080992 , 27.95286292,\n",
       "       46.47674984, 46.09589854, 32.51858473, 52.08705646, 37.62645706,\n",
       "       46.75170735, 35.69789075, 44.53837297, 53.60167885, 37.86143531,\n",
       "       33.47212701, 31.59485831, 35.17420147, 34.07600062, 48.82921552,\n",
       "       42.3400856 , 29.49209943, 34.75793976, 37.02724144, 33.71246265,\n",
       "       24.94663346, 40.4748986 , 36.20486137, 39.36001944, 33.91747319,\n",
       "       33.00707022, 32.41281255, 26.0279731 , 45.62123351, 40.97852535,\n",
       "       36.36554968, 29.68372501, 30.71734482, 49.41360446, 30.68407085,\n",
       "       41.61691601, 31.56392153, 48.49435988, 28.46446004, 44.43436995,\n",
       "       47.26330917, 36.26488682, 45.3722113 , 36.9250691 , 37.98193822,\n",
       "       32.70064131, 32.31855949, 41.27718431, 33.22182892, 33.75634122,\n",
       "       42.18428309, 33.4490351 , 32.64622596, 37.55244162, 35.4183545 ,\n",
       "       39.55059359, 27.27062011, 31.81027715, 38.82323141, 35.08363985,\n",
       "       34.19453793, 29.62900775, 31.81941927, 50.12978948, 29.68733026,\n",
       "       36.36585935, 28.90812339, 37.68666073, 40.99799867, 37.83904082,\n",
       "       46.28151797, 33.71668066, 41.15084214, 47.48429693, 34.71598841,\n",
       "       41.49898166, 44.33255067, 35.6555632 , 32.3810596 , 42.8976011 ,\n",
       "       30.51884404, 46.59029692, 49.46355721, 35.65728293, 27.10063911,\n",
       "       31.24374869, 33.47922707, 34.52812748, 33.41957647, 36.71601   ,\n",
       "       31.83765277, 37.61429182, 36.96368281, 33.57519993, 44.787956  ,\n",
       "       32.09634318, 30.74313222, 39.55811132, 43.94235309, 33.58767531,\n",
       "       45.06040743, 28.64230269, 35.82795453, 31.25047891, 29.46094227,\n",
       "       32.71468407, 43.58055246, 36.33693789, 24.26462186, 51.97944121,\n",
       "       47.21692632, 49.71805986, 36.17068932, 34.21861644, 36.37807648,\n",
       "       35.14849803, 27.99035397, 28.65094242, 29.01851277, 42.16033795,\n",
       "       32.92247808, 42.36369568, 34.19570473, 39.91785918, 36.77084349,\n",
       "       36.38554312, 42.32774521, 26.17046443, 28.91536962, 32.29983044,\n",
       "       43.5385135 , 29.32691595, 35.34461754, 28.23998451, 45.86624084,\n",
       "       35.50628248, 35.71132501, 37.19183513, 34.12463382, 31.38029481,\n",
       "       34.34124566, 41.16326407, 40.34400276, 42.92164575, 35.85619396,\n",
       "       29.95762617, 39.25942641, 33.72921104, 28.32049414, 41.43544337,\n",
       "       37.86579421, 36.38177454, 34.20130367, 38.26085722, 46.43769929,\n",
       "       45.5822402 , 31.95032322, 46.54241392, 25.2698233 , 39.08010652,\n",
       "       31.38149408, 44.52521369, 29.87710328, 45.96700419, 42.79063813,\n",
       "       31.35005691, 34.03545506, 34.20273192, 32.05007282, 31.20387569,\n",
       "       34.177995  , 42.61210873, 33.84950978, 38.15207802, 40.31209653,\n",
       "       30.7801274 , 38.23797377, 27.57449056, 35.04930352, 33.35706267,\n",
       "       48.45668958, 26.90918209, 33.56070955, 52.66757524])"
      ]
     },
     "execution_count": 185,
     "metadata": {},
     "output_type": "execute_result"
    }
   ],
   "source": [
    "preds"
   ]
  },
  {
   "cell_type": "code",
   "execution_count": 186,
   "metadata": {
    "scrolled": true
   },
   "outputs": [
    {
     "data": {
      "text/plain": [
       "array([43.16539226, 39.96186562, 30.86842301, 36.68182385, 28.16697681,\n",
       "       43.26538292, 32.1590653 , 34.65371937, 38.30046484, 51.27861469,\n",
       "       33.65641749, 46.25328312, 36.22740115, 30.79960872, 48.17313623,\n",
       "       43.97118601, 29.67818664, 36.88222601, 33.84564097, 33.4590444 ,\n",
       "       54.88484853, 36.24485684, 37.67095835, 37.85717651, 39.76755152,\n",
       "       31.74027642, 31.6841146 , 30.49921739, 27.10394869, 29.51596438,\n",
       "       33.73962573, 36.75398024, 41.84750547, 41.12613453, 36.76786707,\n",
       "       31.83930355, 27.01937624, 33.92108467, 36.34410192, 28.2552003 ,\n",
       "       45.87062849, 29.91489208, 46.8894824 , 27.46628504, 31.82899076,\n",
       "       36.75601587, 43.03532531, 51.89745292, 44.60285334, 43.51700317,\n",
       "       40.67880935, 29.52556024, 41.7009    , 51.59131909, 32.33464407,\n",
       "       36.47433998, 27.63078444, 37.11985357, 41.56815986, 29.99059394,\n",
       "       39.374933  , 34.89609987, 31.66519073, 41.51405501, 42.16761795,\n",
       "       29.73977831, 38.38750798, 46.01069746, 33.81100835, 48.82480289,\n",
       "       29.37122354, 31.16126631, 28.51397006, 31.74253196, 37.76335962,\n",
       "       45.37173801, 35.18027076, 43.25863235, 31.58407649, 31.82387808,\n",
       "       31.7528004 , 32.82547872, 33.56726551, 31.49373913, 30.53635717,\n",
       "       43.28022461, 40.3451123 , 45.99415896, 31.35501811, 35.29714179,\n",
       "       27.68373246, 47.01686714, 39.53952642, 36.24138702, 36.86922488,\n",
       "       34.35646428, 46.13228175, 36.57744627, 33.75128585, 34.99963704,\n",
       "       35.38081166, 41.12529482, 39.87428304, 35.27198543, 38.96411728,\n",
       "       46.90445062, 40.55008141, 44.59921626, 28.3345349 , 43.47751618,\n",
       "       29.17458534, 37.12642483, 33.22862055, 29.92212315, 35.17621514,\n",
       "       27.23331213, 34.66488703, 46.24572448, 54.10310164, 54.85832553,\n",
       "       40.43865367, 31.46133652, 30.23419342, 28.35926602, 28.36235138,\n",
       "       33.74381029, 28.45118183, 44.61499366, 34.87390869, 32.72781527,\n",
       "       34.3432514 , 39.54164848, 36.87524203, 46.98702274, 35.41945494,\n",
       "       35.62631208, 47.48806965, 43.99154768, 27.18312638, 46.91285056,\n",
       "       33.51641907, 54.47864009, 51.40238854, 35.52797347, 39.29312139,\n",
       "       29.53739857, 44.37182342, 42.91418115, 35.29644079, 27.7190837 ,\n",
       "       46.33894877, 34.86163836, 45.08502406, 31.91135967, 40.92784659,\n",
       "       31.99983964, 29.98009352, 30.21329488, 51.73671524, 29.58309685,\n",
       "       41.61324914, 44.45177915, 37.296695  , 31.65048227, 34.35973002,\n",
       "       30.07694398, 54.63196956, 37.98692131, 37.98908495, 31.76005331,\n",
       "       37.55388377, 38.97347735, 31.42486917, 42.56493698, 41.43079626,\n",
       "       33.15050804, 40.44528638, 46.12542739, 38.50092718, 33.39137771,\n",
       "       43.98253326, 32.31888422, 30.10797586, 28.14294854, 39.94947636,\n",
       "       27.6241071 , 30.70328037, 39.77747069, 35.0078315 , 46.37289635,\n",
       "       34.89507137, 27.25599793, 36.68840381, 31.25077337, 42.74165872,\n",
       "       38.5346006 , 31.06058459, 37.3994883 , 39.65333913, 40.42592784,\n",
       "       37.76295872, 31.25868292, 29.67651324, 41.39704845, 31.83483355,\n",
       "       46.11172135, 51.98803462, 31.91603685, 39.75566939, 35.2046311 ,\n",
       "       32.81484575, 42.3033783 , 33.23867415, 28.81945307, 35.61794053,\n",
       "       37.73232792, 44.26931106, 29.11297424, 31.34552476, 34.76871705,\n",
       "       29.84847731, 45.48486785, 49.14953253, 29.18568766, 27.17502848,\n",
       "       31.7687836 , 37.19493868, 30.8711929 , 30.46730635, 38.96428101,\n",
       "       39.95693842, 45.58920911, 36.65763599, 36.97227399, 34.77499087,\n",
       "       40.00437055, 49.39748271, 29.45475868, 36.24558906, 39.09766541,\n",
       "       47.00993432, 49.414381  , 48.05759612, 36.34828966, 35.52408523,\n",
       "       43.85823515, 33.83907613, 37.77767196, 34.14951855, 33.23365861,\n",
       "       32.73404755, 44.83961798, 26.92966242, 40.68010476, 30.1449659 ,\n",
       "       31.18100704, 45.06449483, 40.68563292, 38.75567604, 34.15374432,\n",
       "       31.64866957, 40.54239769, 31.97732017, 50.69845659, 45.55267322,\n",
       "       35.00374296, 52.15534246, 31.46491858, 31.99372238, 28.65817731,\n",
       "       27.81564983, 29.76229451, 42.86944832, 36.1582739 , 49.13527636,\n",
       "       35.6133162 , 39.87921146, 51.53746548, 35.81900442, 51.03434174,\n",
       "       30.70713569, 33.0628338 , 41.67654145, 32.30880288, 44.8660703 ,\n",
       "       28.53113651, 37.86189372, 31.94940132, 33.96368743, 29.71310895,\n",
       "       49.14663276, 33.45998092, 51.58261982, 37.7503669 , 37.84373079,\n",
       "       34.76743376, 54.86807352, 37.31421822, 31.59750852, 41.71781731,\n",
       "       37.55798095, 38.54115533, 40.53025522, 37.75727208, 41.83779554,\n",
       "       32.93459717, 37.30223496, 45.72888156, 46.34301031, 36.85731409,\n",
       "       44.84626251, 37.54733832, 35.09014701, 41.62072126, 37.66868636,\n",
       "       40.54459584, 37.65186624, 37.00843683, 34.57456413, 29.92236998,\n",
       "       38.8448087 , 32.31352114, 42.16297274, 39.8655158 , 28.8973992 ,\n",
       "       32.02731038, 29.45195591, 30.50704241, 44.87024592, 36.47383742,\n",
       "       31.3894858 , 36.85122181, 35.80361287, 41.22536788, 51.87750418,\n",
       "       36.6830715 , 39.39018733, 36.22117995, 39.20837062, 35.89082631,\n",
       "       34.83788318, 36.20733581, 40.23517709, 38.10079352, 36.48453494,\n",
       "       30.7921914 , 32.89998224, 42.26917886, 48.7311163 , 39.77233996,\n",
       "       28.90802427, 44.73103266, 35.51538828, 51.99635497, 51.31212192,\n",
       "       43.04064626, 32.73305057, 28.26243797, 27.99567013, 52.13784783,\n",
       "       30.68740178, 31.16465652, 34.0756086 , 41.37961903, 40.91198993,\n",
       "       41.0826939 , 48.03370493, 49.14076891, 30.84968271, 28.1527218 ,\n",
       "       29.91927591, 27.46240297, 44.74403708, 31.51045603, 30.78287962,\n",
       "       30.02947991, 36.66345642, 36.73983718, 40.5238246 , 32.15624547,\n",
       "       52.01256813, 29.59247669, 33.76323887, 33.54657374, 32.74952925,\n",
       "       36.4722499 , 48.7144537 , 36.57900584, 34.85914559, 29.12322776,\n",
       "       49.50938618, 44.92008752, 29.90581129, 26.90190638, 30.68564424,\n",
       "       31.74772284, 29.11158413, 48.84828466, 43.97144961, 49.38980827,\n",
       "       32.64838227, 34.24169043, 35.27259216, 36.56258727, 27.99214075,\n",
       "       37.41768159, 28.97621671, 32.42747442, 41.95816585, 27.74605816,\n",
       "       45.07273638, 47.79153187, 31.01553356, 50.70336895, 37.9494314 ,\n",
       "       48.46130522, 36.11875834, 44.26974647, 54.30993485, 36.786336  ,\n",
       "       33.31033903, 31.46431607, 34.6615682 , 34.47386948, 51.41071249,\n",
       "       43.16942042, 29.43870159, 34.90098777, 36.76200626, 33.30641006,\n",
       "       27.10694931, 39.65869232, 36.75253008, 38.86346275, 31.43557419,\n",
       "       32.72414083, 31.81785616, 27.54420838, 46.01342182, 41.96422444,\n",
       "       36.14419515, 30.71052092, 30.45740442, 51.30295718, 31.09113274,\n",
       "       41.95192114, 31.8684321 , 51.39323406, 27.69720164, 44.27455192,\n",
       "       46.51393117, 36.050027  , 46.79284003, 37.20667943, 37.2114887 ,\n",
       "       33.05440765, 32.1610265 , 40.80056399, 32.39272468, 33.76001684,\n",
       "       43.04021848, 33.16224584, 32.32442335, 37.40499807, 34.99566574,\n",
       "       39.21032643, 28.444446  , 31.66371803, 39.22183544, 34.17072946,\n",
       "       33.6563558 , 29.91763176, 32.23521046, 51.03734102, 30.10513677,\n",
       "       36.57353662, 30.14501535, 38.10526577, 40.10094715, 37.66295838,\n",
       "       46.66119652, 33.14269052, 39.52390995, 47.32161742, 34.31454384,\n",
       "       41.13194003, 42.72121194, 35.51965632, 31.9010555 , 43.14629117,\n",
       "       30.58100328, 45.86291298, 51.16898546, 35.51506237, 27.6791626 ,\n",
       "       30.85905964, 33.73358841, 33.8214656 , 30.9539427 , 37.29122926,\n",
       "       31.74580982, 37.54437583, 37.00366654, 33.56930006, 43.35677126,\n",
       "       32.2454541 , 30.45249006, 37.42391099, 43.64574962, 34.06972093,\n",
       "       43.37213329, 29.27772337, 35.71017223, 30.85436365, 29.04278306,\n",
       "       31.83701167, 43.64015262, 35.51144322, 26.83617212, 50.65069636,\n",
       "       49.288078  , 48.15254878, 35.61151468, 33.38525195, 36.36494204,\n",
       "       34.68556768, 29.21439422, 29.6740326 , 30.04002962, 41.7201676 ,\n",
       "       33.22025425, 42.18124408, 34.24031209, 39.42688907, 35.37407429,\n",
       "       35.8092658 , 41.9889794 , 27.99876947, 28.58381097, 30.9453992 ,\n",
       "       44.50093045, 30.14074607, 35.785494  , 28.08012473, 46.88209773,\n",
       "       34.25416391, 35.79140838, 36.73802108, 34.3862221 , 31.43184667,\n",
       "       34.3208092 , 39.96724114, 39.87205376, 41.85619161, 35.41953808,\n",
       "       29.52065796, 39.77702575, 32.88939345, 27.75583025, 40.68575205,\n",
       "       37.72547657, 36.13333517, 34.56938173, 38.76147431, 46.65843297,\n",
       "       45.23362211, 29.13752617, 45.86821131, 27.02004402, 38.85098017,\n",
       "       31.98087809, 45.18644634, 29.82446521, 46.46787432, 43.77767098,\n",
       "       31.98272097, 33.55132769, 33.80467957, 32.73656637, 30.45721123,\n",
       "       34.5797681 , 42.43272962, 34.48943149, 37.84989999, 39.52167179,\n",
       "       31.67949986, 37.65986426, 29.21608946, 33.90953157, 33.04907566,\n",
       "       48.31964901, 28.68935762, 34.38810949, 50.70445257])"
      ]
     },
     "execution_count": 186,
     "metadata": {},
     "output_type": "execute_result"
    }
   ],
   "source": [
    "np.asarray(y_test.iloc[0:])"
   ]
  },
  {
   "cell_type": "code",
   "execution_count": 187,
   "metadata": {
    "collapsed": true
   },
   "outputs": [],
   "source": [
    "def avg_error(y_tes , preds):\n",
    "    error = 0\n",
    "    for i in range(len(y_tes)):\n",
    "        error += np.abs(y_tes[0] - preds[0])\n",
    "    print(error)\n",
    "    return error/len(y_tes)"
   ]
  },
  {
   "cell_type": "code",
   "execution_count": 188,
   "metadata": {},
   "outputs": [
    {
     "name": "stdout",
     "output_type": "stream",
     "text": [
      "582.5002593622602\n"
     ]
    },
    {
     "data": {
      "text/plain": [
       "0.9806401672765322"
      ]
     },
     "execution_count": 188,
     "metadata": {},
     "output_type": "execute_result"
    }
   ],
   "source": [
    "avg_error(np.asarray(y_test.iloc[0:]),preds)"
   ]
  },
  {
   "cell_type": "code",
   "execution_count": 189,
   "metadata": {
    "collapsed": true
   },
   "outputs": [],
   "source": [
    "lr_new = LinearRegression()"
   ]
  },
  {
   "cell_type": "code",
   "execution_count": 191,
   "metadata": {},
   "outputs": [
    {
     "data": {
      "text/plain": [
       "LinearRegression(copy_X=True, fit_intercept=True, n_jobs=1, normalize=False)"
      ]
     },
     "execution_count": 191,
     "metadata": {},
     "output_type": "execute_result"
    }
   ],
   "source": [
    "lr_new.fit(X_train.iloc[:,2:],y_train)"
   ]
  },
  {
   "cell_type": "code",
   "execution_count": 193,
   "metadata": {},
   "outputs": [],
   "source": [
    "new_preds = lr_new.predict(X_test.iloc[:,2:])"
   ]
  },
  {
   "cell_type": "code",
   "execution_count": 195,
   "metadata": {},
   "outputs": [
    {
     "name": "stdout",
     "output_type": "stream",
     "text": [
      "4548.104853163749\n"
     ]
    },
    {
     "data": {
      "text/plain": [
       "7.656742177043348"
      ]
     },
     "execution_count": 195,
     "metadata": {},
     "output_type": "execute_result"
    }
   ],
   "source": [
    "avg_error(np.asarray(y_test.iloc[0:]),new_preds)"
   ]
  },
  {
   "cell_type": "code",
   "execution_count": 197,
   "metadata": {},
   "outputs": [
    {
     "data": {
      "text/plain": [
       "array([-5.43021989e-01, -1.53875767e-03,  3.62073874e+03,  5.46365171e-02])"
      ]
     },
     "execution_count": 197,
     "metadata": {},
     "output_type": "execute_result"
    }
   ],
   "source": [
    "lr.coef_"
   ]
  },
  {
   "cell_type": "code",
   "execution_count": 198,
   "metadata": {},
   "outputs": [
    {
     "data": {
      "text/plain": [
       "array([-4.75095013e+02,  1.09740779e-01])"
      ]
     },
     "execution_count": 198,
     "metadata": {},
     "output_type": "execute_result"
    }
   ],
   "source": [
    "lr_new.coef_"
   ]
  },
  {
   "cell_type": "code",
   "execution_count": 199,
   "metadata": {},
   "outputs": [
    {
     "data": {
      "text/plain": [
       "<bound method RegressorMixin.score of LinearRegression(copy_X=True, fit_intercept=True, n_jobs=1, normalize=False)>"
      ]
     },
     "execution_count": 199,
     "metadata": {},
     "output_type": "execute_result"
    }
   ],
   "source": [
    "lr.score"
   ]
  },
  {
   "cell_type": "code",
   "execution_count": null,
   "metadata": {
    "collapsed": true
   },
   "outputs": [],
   "source": []
  }
 ],
 "metadata": {
  "kernelspec": {
   "display_name": "Python 3",
   "language": "python",
   "name": "python3"
  },
  "language_info": {
   "codemirror_mode": {
    "name": "ipython",
    "version": 3
   },
   "file_extension": ".py",
   "mimetype": "text/x-python",
   "name": "python",
   "nbconvert_exporter": "python",
   "pygments_lexer": "ipython3",
   "version": "3.6.3"
  }
 },
 "nbformat": 4,
 "nbformat_minor": 2
}
